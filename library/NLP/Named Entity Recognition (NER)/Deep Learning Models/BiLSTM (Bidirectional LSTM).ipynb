{
 "cells": [
  {
   "cell_type": "markdown",
   "metadata": {},
   "source": [
    "## **BiLSTM (Bidirectional LSTM) + CRF**\n",
    "\n",
    "BiLSTM captures bidirectional context in sequences, while CRF ensures the predictions adhere to valid label sequences."
   ]
  },
  {
   "cell_type": "markdown",
   "metadata": {},
   "source": [
    "**Imports**"
   ]
  },
  {
   "cell_type": "code",
   "execution_count": 1,
   "metadata": {},
   "outputs": [
    {
     "name": "stderr",
     "output_type": "stream",
     "text": [
      "c:\\Python312\\Lib\\site-packages\\torch\\utils\\_pytree.py:185: FutureWarning: optree is installed but the version is too old to support PyTorch Dynamo in C++ pytree. C++ pytree support is disabled. Please consider upgrading optree using `python3 -m pip install --upgrade 'optree>=0.13.0'`.\n",
      "  warnings.warn(\n"
     ]
    }
   ],
   "source": [
    "import torch\n",
    "from torch import nn\n",
    "from transformers import AutoTokenizer, AutoModel\n"
   ]
  },
  {
   "cell_type": "markdown",
   "metadata": {},
   "source": [
    "**BiLSTM MODEL**"
   ]
  },
  {
   "cell_type": "code",
   "execution_count": 2,
   "metadata": {},
   "outputs": [],
   "source": [
    "class BiLSTM_CRF(nn.Module):\n",
    "    def __init__(self, input_dim, hidden_dim, output_dim):\n",
    "        super().__init__()\n",
    "        self.lstm = nn.LSTM(input_dim, hidden_dim, bidirectional=True, batch_first=True)\n",
    "        self.fc = nn.Linear(hidden_dim * 2, output_dim)\n",
    "        self.crf = nn.Linear(output_dim, output_dim)  # Simplified CRF logic\n",
    "\n",
    "    def forward(self, x):\n",
    "        lstm_out, _ = self.lstm(x)\n",
    "        emissions = self.fc(lstm_out)\n",
    "        return emissions  # Use CRF decode logic here"
   ]
  },
  {
   "cell_type": "markdown",
   "metadata": {},
   "source": [
    "**Simplified Example**"
   ]
  },
  {
   "cell_type": "code",
   "execution_count": 3,
   "metadata": {},
   "outputs": [
    {
     "name": "stdout",
     "output_type": "stream",
     "text": [
      "tensor([[[-0.0333, -0.2842,  0.0870,  0.1059, -0.0011,  0.1217,  0.2354,\n",
      "           0.0664, -0.0202,  0.1199],\n",
      "         [-0.0543, -0.3156, -0.0060,  0.0705,  0.0257,  0.1533,  0.3117,\n",
      "           0.1667,  0.0335,  0.0938],\n",
      "         [ 0.0477, -0.3543,  0.0035, -0.0046, -0.0024,  0.1611,  0.2928,\n",
      "           0.0502, -0.0333,  0.1238],\n",
      "         [ 0.0564, -0.2324, -0.0074, -0.0454, -0.0717,  0.1942,  0.2631,\n",
      "           0.0911, -0.0428,  0.1295],\n",
      "         [ 0.0419, -0.1573, -0.0115, -0.1022, -0.1245,  0.1408,  0.2492,\n",
      "           0.1591, -0.0429,  0.0188]]], grad_fn=<ViewBackward0>)\n"
     ]
    }
   ],
   "source": [
    "model = BiLSTM_CRF(input_dim=768, hidden_dim=128, output_dim=10)\n",
    "dummy_input = torch.rand(1, 5, 768)  # (batch_size, seq_len, input_dim)\n",
    "outputs = model(dummy_input)\n",
    "print(outputs)"
   ]
  }
 ],
 "metadata": {
  "kernelspec": {
   "display_name": "Python 3",
   "language": "python",
   "name": "python3"
  },
  "language_info": {
   "codemirror_mode": {
    "name": "ipython",
    "version": 3
   },
   "file_extension": ".py",
   "mimetype": "text/x-python",
   "name": "python",
   "nbconvert_exporter": "python",
   "pygments_lexer": "ipython3",
   "version": "3.12.5"
  }
 },
 "nbformat": 4,
 "nbformat_minor": 2
}
