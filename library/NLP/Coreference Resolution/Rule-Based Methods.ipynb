{
 "cells": [
  {
   "cell_type": "markdown",
   "metadata": {},
   "source": [
    "## **Rule-Based Methods**\n",
    "\n",
    "Rule-based methods rely on handcrafted rules and linguistic features, such as gender, number, and syntactic structure, to resolve coreferences."
   ]
  },
  {
   "cell_type": "markdown",
   "metadata": {},
   "source": [
    "**Imports**"
   ]
  },
  {
   "cell_type": "code",
   "execution_count": 2,
   "metadata": {},
   "outputs": [
    {
     "name": "stdout",
     "output_type": "stream",
     "text": [
      "Collecting spacy\n",
      "  Downloading spacy-3.8.4-cp312-cp312-win_amd64.whl.metadata (27 kB)\n",
      "Collecting spacy-legacy<3.1.0,>=3.0.11 (from spacy)\n",
      "  Using cached spacy_legacy-3.0.12-py2.py3-none-any.whl.metadata (2.8 kB)\n",
      "Collecting spacy-loggers<2.0.0,>=1.0.0 (from spacy)\n",
      "  Using cached spacy_loggers-1.0.5-py3-none-any.whl.metadata (23 kB)\n",
      "Collecting murmurhash<1.1.0,>=0.28.0 (from spacy)\n",
      "  Downloading murmurhash-1.0.12-cp312-cp312-win_amd64.whl.metadata (2.2 kB)\n",
      "Collecting cymem<2.1.0,>=2.0.2 (from spacy)\n",
      "  Using cached cymem-2.0.11-cp312-cp312-win_amd64.whl.metadata (8.8 kB)\n",
      "Collecting preshed<3.1.0,>=3.0.2 (from spacy)\n",
      "  Using cached preshed-3.0.9-cp312-cp312-win_amd64.whl.metadata (2.2 kB)\n",
      "Collecting thinc<8.4.0,>=8.3.4 (from spacy)\n",
      "  Downloading thinc-8.3.4-cp312-cp312-win_amd64.whl.metadata (15 kB)\n",
      "Collecting wasabi<1.2.0,>=0.9.1 (from spacy)\n",
      "  Using cached wasabi-1.1.3-py3-none-any.whl.metadata (28 kB)\n",
      "Collecting srsly<3.0.0,>=2.4.3 (from spacy)\n",
      "  Downloading srsly-2.5.1-cp312-cp312-win_amd64.whl.metadata (20 kB)\n",
      "Collecting catalogue<2.1.0,>=2.0.6 (from spacy)\n",
      "  Using cached catalogue-2.0.10-py3-none-any.whl.metadata (14 kB)\n",
      "Collecting weasel<0.5.0,>=0.1.0 (from spacy)\n",
      "  Using cached weasel-0.4.1-py3-none-any.whl.metadata (4.6 kB)\n",
      "Requirement already satisfied: typer<1.0.0,>=0.3.0 in c:\\python312\\lib\\site-packages (from spacy) (0.9.4)\n",
      "Requirement already satisfied: tqdm<5.0.0,>=4.38.0 in c:\\python312\\lib\\site-packages (from spacy) (4.66.5)\n",
      "Requirement already satisfied: numpy>=1.19.0 in c:\\python312\\lib\\site-packages (from spacy) (1.26.4)\n",
      "Requirement already satisfied: requests<3.0.0,>=2.13.0 in c:\\python312\\lib\\site-packages (from spacy) (2.32.3)\n",
      "Requirement already satisfied: pydantic!=1.8,!=1.8.1,<3.0.0,>=1.7.4 in c:\\python312\\lib\\site-packages (from spacy) (2.10.1)\n",
      "Requirement already satisfied: jinja2 in c:\\python312\\lib\\site-packages (from spacy) (3.1.4)\n",
      "Requirement already satisfied: setuptools in c:\\python312\\lib\\site-packages (from spacy) (74.1.2)\n",
      "Requirement already satisfied: packaging>=20.0 in c:\\python312\\lib\\site-packages (from spacy) (24.1)\n",
      "Collecting langcodes<4.0.0,>=3.2.0 (from spacy)\n",
      "  Downloading langcodes-3.5.0-py3-none-any.whl.metadata (29 kB)\n",
      "Collecting language-data>=1.2 (from langcodes<4.0.0,>=3.2.0->spacy)\n",
      "  Downloading language_data-1.3.0-py3-none-any.whl.metadata (4.3 kB)\n",
      "Requirement already satisfied: annotated-types>=0.6.0 in c:\\python312\\lib\\site-packages (from pydantic!=1.8,!=1.8.1,<3.0.0,>=1.7.4->spacy) (0.7.0)\n",
      "Requirement already satisfied: pydantic-core==2.27.1 in c:\\python312\\lib\\site-packages (from pydantic!=1.8,!=1.8.1,<3.0.0,>=1.7.4->spacy) (2.27.1)\n",
      "Requirement already satisfied: typing-extensions>=4.12.2 in c:\\python312\\lib\\site-packages (from pydantic!=1.8,!=1.8.1,<3.0.0,>=1.7.4->spacy) (4.12.2)\n",
      "Requirement already satisfied: charset-normalizer<4,>=2 in c:\\python312\\lib\\site-packages (from requests<3.0.0,>=2.13.0->spacy) (3.3.2)\n",
      "Requirement already satisfied: idna<4,>=2.5 in c:\\python312\\lib\\site-packages (from requests<3.0.0,>=2.13.0->spacy) (3.8)\n",
      "Requirement already satisfied: urllib3<3,>=1.21.1 in c:\\python312\\lib\\site-packages (from requests<3.0.0,>=2.13.0->spacy) (2.2.3)\n",
      "Requirement already satisfied: certifi>=2017.4.17 in c:\\python312\\lib\\site-packages (from requests<3.0.0,>=2.13.0->spacy) (2024.8.30)\n",
      "Collecting blis<1.3.0,>=1.2.0 (from thinc<8.4.0,>=8.3.4->spacy)\n",
      "  Downloading blis-1.2.0-cp312-cp312-win_amd64.whl.metadata (7.9 kB)\n",
      "Collecting confection<1.0.0,>=0.0.1 (from thinc<8.4.0,>=8.3.4->spacy)\n",
      "  Using cached confection-0.1.5-py3-none-any.whl.metadata (19 kB)\n",
      "Requirement already satisfied: colorama in c:\\users\\ch.k.abhiram\\appdata\\roaming\\python\\python312\\site-packages (from tqdm<5.0.0,>=4.38.0->spacy) (0.4.6)\n",
      "Requirement already satisfied: click<9.0.0,>=7.1.1 in c:\\python312\\lib\\site-packages (from typer<1.0.0,>=0.3.0->spacy) (8.1.7)\n",
      "Requirement already satisfied: cloudpathlib<1.0.0,>=0.7.0 in c:\\python312\\lib\\site-packages (from weasel<0.5.0,>=0.1.0->spacy) (0.17.0)\n",
      "Requirement already satisfied: smart-open<8.0.0,>=5.2.1 in c:\\python312\\lib\\site-packages (from weasel<0.5.0,>=0.1.0->spacy) (6.4.0)\n",
      "Requirement already satisfied: MarkupSafe>=2.0 in c:\\python312\\lib\\site-packages (from jinja2->spacy) (2.1.5)\n",
      "Collecting marisa-trie>=1.1.0 (from language-data>=1.2->langcodes<4.0.0,>=3.2.0->spacy)\n",
      "  Downloading marisa_trie-1.2.1-cp312-cp312-win_amd64.whl.metadata (9.3 kB)\n",
      "Downloading spacy-3.8.4-cp312-cp312-win_amd64.whl (11.8 MB)\n",
      "   ---------------------------------------- 0.0/11.8 MB ? eta -:--:--\n",
      "   - -------------------------------------- 0.5/11.8 MB 5.6 MB/s eta 0:00:03\n",
      "   -------- ------------------------------- 2.6/11.8 MB 13.7 MB/s eta 0:00:01\n",
      "   ---------------- ----------------------- 4.7/11.8 MB 10.9 MB/s eta 0:00:01\n",
      "   ------------------- -------------------- 5.8/11.8 MB 8.6 MB/s eta 0:00:01\n",
      "   ------------------------ --------------- 7.1/11.8 MB 7.8 MB/s eta 0:00:01\n",
      "   -------------------------- ------------- 7.9/11.8 MB 7.3 MB/s eta 0:00:01\n",
      "   ------------------------------ --------- 8.9/11.8 MB 6.9 MB/s eta 0:00:01\n",
      "   -------------------------------- ------- 9.4/11.8 MB 6.5 MB/s eta 0:00:01\n",
      "   --------------------------------- ------ 10.0/11.8 MB 5.7 MB/s eta 0:00:01\n",
      "   ---------------------------------- ----- 10.2/11.8 MB 5.4 MB/s eta 0:00:01\n",
      "   ----------------------------------- ---- 10.5/11.8 MB 5.0 MB/s eta 0:00:01\n",
      "   ------------------------------------ --- 10.7/11.8 MB 4.7 MB/s eta 0:00:01\n",
      "   ------------------------------------- -- 11.0/11.8 MB 4.5 MB/s eta 0:00:01\n",
      "   -------------------------------------- - 11.3/11.8 MB 4.3 MB/s eta 0:00:01\n",
      "   ---------------------------------------  11.5/11.8 MB 4.1 MB/s eta 0:00:01\n",
      "   ---------------------------------------- 11.8/11.8 MB 3.7 MB/s eta 0:00:00\n",
      "Using cached catalogue-2.0.10-py3-none-any.whl (17 kB)\n",
      "Downloading cymem-2.0.11-cp312-cp312-win_amd64.whl (39 kB)\n",
      "Downloading langcodes-3.5.0-py3-none-any.whl (182 kB)\n",
      "Downloading murmurhash-1.0.12-cp312-cp312-win_amd64.whl (25 kB)\n",
      "Using cached preshed-3.0.9-cp312-cp312-win_amd64.whl (122 kB)\n",
      "Using cached spacy_legacy-3.0.12-py2.py3-none-any.whl (29 kB)\n",
      "Using cached spacy_loggers-1.0.5-py3-none-any.whl (22 kB)\n",
      "Downloading srsly-2.5.1-cp312-cp312-win_amd64.whl (632 kB)\n",
      "   ---------------------------------------- 0.0/632.6 kB ? eta -:--:--\n",
      "   ---------------- ----------------------- 262.1/632.6 kB ? eta -:--:--\n",
      "   ---------------------------------------- 632.6/632.6 kB 1.5 MB/s eta 0:00:00\n",
      "Downloading thinc-8.3.4-cp312-cp312-win_amd64.whl (1.5 MB)\n",
      "   ---------------------------------------- 0.0/1.5 MB ? eta -:--:--\n",
      "   ------- -------------------------------- 0.3/1.5 MB ? eta -:--:--\n",
      "   -------------- ------------------------- 0.5/1.5 MB 1.7 MB/s eta 0:00:01\n",
      "   ---------------------------- ----------- 1.0/1.5 MB 1.7 MB/s eta 0:00:01\n",
      "   ------------------------------------ --- 1.3/1.5 MB 1.7 MB/s eta 0:00:01\n",
      "   ---------------------------------------- 1.5/1.5 MB 1.6 MB/s eta 0:00:00\n",
      "Using cached wasabi-1.1.3-py3-none-any.whl (27 kB)\n",
      "Using cached weasel-0.4.1-py3-none-any.whl (50 kB)\n",
      "Downloading blis-1.2.0-cp312-cp312-win_amd64.whl (6.3 MB)\n",
      "   ---------------------------------------- 0.0/6.3 MB ? eta -:--:--\n",
      "   - -------------------------------------- 0.3/6.3 MB ? eta -:--:--\n",
      "   --- ------------------------------------ 0.5/6.3 MB 1.9 MB/s eta 0:00:04\n",
      "   ------ --------------------------------- 1.0/6.3 MB 1.9 MB/s eta 0:00:03\n",
      "   -------- ------------------------------- 1.3/6.3 MB 1.9 MB/s eta 0:00:03\n",
      "   ----------- ---------------------------- 1.8/6.3 MB 1.9 MB/s eta 0:00:03\n",
      "   --------------- ------------------------ 2.4/6.3 MB 1.9 MB/s eta 0:00:03\n",
      "   ---------------- ----------------------- 2.6/6.3 MB 1.9 MB/s eta 0:00:02\n",
      "   -------------------- ------------------- 3.1/6.3 MB 2.0 MB/s eta 0:00:02\n",
      "   ----------------------- ---------------- 3.7/6.3 MB 2.0 MB/s eta 0:00:02\n",
      "   ------------------------- -------------- 3.9/6.3 MB 2.0 MB/s eta 0:00:02\n",
      "   ---------------------------- ----------- 4.5/6.3 MB 2.0 MB/s eta 0:00:01\n",
      "   ------------------------------- -------- 5.0/6.3 MB 2.0 MB/s eta 0:00:01\n",
      "   ----------------------------------- ---- 5.5/6.3 MB 2.0 MB/s eta 0:00:01\n",
      "   ------------------------------------ --- 5.8/6.3 MB 2.1 MB/s eta 0:00:01\n",
      "   -------------------------------------- - 6.0/6.3 MB 2.1 MB/s eta 0:00:01\n",
      "   ---------------------------------------- 6.3/6.3 MB 2.0 MB/s eta 0:00:00\n",
      "Using cached confection-0.1.5-py3-none-any.whl (35 kB)\n",
      "Downloading language_data-1.3.0-py3-none-any.whl (5.4 MB)\n",
      "   ---------------------------------------- 0.0/5.4 MB ? eta -:--:--\n",
      "   - -------------------------------------- 0.3/5.4 MB ? eta -:--:--\n",
      "   ----- ---------------------------------- 0.8/5.4 MB 2.4 MB/s eta 0:00:02\n",
      "   --------- ------------------------------ 1.3/5.4 MB 2.4 MB/s eta 0:00:02\n",
      "   ------------- -------------------------- 1.8/5.4 MB 2.5 MB/s eta 0:00:02\n",
      "   ----------------- ---------------------- 2.4/5.4 MB 2.4 MB/s eta 0:00:02\n",
      "   --------------------- ------------------ 2.9/5.4 MB 2.5 MB/s eta 0:00:02\n",
      "   ------------------------- -------------- 3.4/5.4 MB 2.5 MB/s eta 0:00:01\n",
      "   ----------------------------- ---------- 3.9/5.4 MB 2.5 MB/s eta 0:00:01\n",
      "   --------------------------------- ------ 4.5/5.4 MB 2.5 MB/s eta 0:00:01\n",
      "   ------------------------------------ --- 5.0/5.4 MB 2.5 MB/s eta 0:00:01\n",
      "   ---------------------------------------- 5.4/5.4 MB 2.4 MB/s eta 0:00:00\n",
      "Downloading marisa_trie-1.2.1-cp312-cp312-win_amd64.whl (150 kB)\n",
      "Installing collected packages: cymem, wasabi, spacy-loggers, spacy-legacy, murmurhash, marisa-trie, catalogue, blis, srsly, preshed, language-data, langcodes, confection, weasel, thinc, spacy\n",
      "Successfully installed blis-1.2.0 catalogue-2.0.10 confection-0.1.5 cymem-2.0.11 langcodes-3.5.0 language-data-1.3.0 marisa-trie-1.2.1 murmurhash-1.0.12 preshed-3.0.9 spacy-3.8.4 spacy-legacy-3.0.12 spacy-loggers-1.0.5 srsly-2.5.1 thinc-8.3.4 wasabi-1.1.3 weasel-0.4.1\n"
     ]
    },
    {
     "name": "stderr",
     "output_type": "stream",
     "text": [
      "\n",
      "[notice] A new release of pip is available: 24.2 -> 25.0\n",
      "[notice] To update, run: python.exe -m pip install --upgrade pip\n",
      "c:\\Python312\\Lib\\site-packages\\torch\\utils\\_pytree.py:185: FutureWarning: optree is installed but the version is too old to support PyTorch Dynamo in C++ pytree. C++ pytree support is disabled. Please consider upgrading optree using `python3 -m pip install --upgrade 'optree>=0.13.0'`.\n",
      "  warnings.warn(\n"
     ]
    }
   ],
   "source": [
    "!pip install spacy \n",
    "import spacy"
   ]
  },
  {
   "cell_type": "markdown",
   "metadata": {},
   "source": [
    "**Load spaCy language model with coreference resolution support**"
   ]
  },
  {
   "cell_type": "code",
   "execution_count": 4,
   "metadata": {},
   "outputs": [
    {
     "name": "stdout",
     "output_type": "stream",
     "text": [
      "Collecting en-core-web-sm==3.8.0\n",
      "  Downloading https://github.com/explosion/spacy-models/releases/download/en_core_web_sm-3.8.0/en_core_web_sm-3.8.0-py3-none-any.whl (12.8 MB)\n",
      "     ---------------------------------------- 0.0/12.8 MB ? eta -:--:--\n",
      "     -------- ------------------------------- 2.6/12.8 MB 16.9 MB/s eta 0:00:01\n",
      "     -------------- ------------------------- 4.7/12.8 MB 13.6 MB/s eta 0:00:01\n",
      "     ------------------ --------------------- 5.8/12.8 MB 10.4 MB/s eta 0:00:01\n",
      "     -------------------- ------------------- 6.6/12.8 MB 8.8 MB/s eta 0:00:01\n",
      "     ------------------------ --------------- 7.9/12.8 MB 8.0 MB/s eta 0:00:01\n",
      "     --------------------------- ------------ 8.7/12.8 MB 7.4 MB/s eta 0:00:01\n",
      "     --------------------------- ------------ 8.9/12.8 MB 6.8 MB/s eta 0:00:01\n",
      "     ---------------------------- ----------- 9.2/12.8 MB 6.1 MB/s eta 0:00:01\n",
      "     ----------------------------- ---------- 9.4/12.8 MB 5.5 MB/s eta 0:00:01\n",
      "     ------------------------------- -------- 10.0/12.8 MB 4.9 MB/s eta 0:00:01\n",
      "     ------------------------------- -------- 10.2/12.8 MB 4.7 MB/s eta 0:00:01\n",
      "     --------------------------------- ------ 10.7/12.8 MB 4.5 MB/s eta 0:00:01\n",
      "     ----------------------------------- ---- 11.3/12.8 MB 4.4 MB/s eta 0:00:01\n",
      "     ------------------------------------- -- 12.1/12.8 MB 4.2 MB/s eta 0:00:01\n",
      "     ---------------------------------------  12.6/12.8 MB 4.2 MB/s eta 0:00:01\n",
      "     ---------------------------------------  12.6/12.8 MB 4.2 MB/s eta 0:00:01\n",
      "     ---------------------------------------- 12.8/12.8 MB 3.7 MB/s eta 0:00:00\n",
      "Installing collected packages: en-core-web-sm\n",
      "Successfully installed en-core-web-sm-3.8.0\n",
      "\u001b[38;5;2m✔ Download and installation successful\u001b[0m\n",
      "You can now load the package via spacy.load('en_core_web_sm')\n"
     ]
    },
    {
     "name": "stderr",
     "output_type": "stream",
     "text": [
      "c:\\Python312\\Lib\\site-packages\\torch\\utils\\_pytree.py:185: FutureWarning: optree is installed but the version is too old to support PyTorch Dynamo in C++ pytree. C++ pytree support is disabled. Please consider upgrading optree using `python3 -m pip install --upgrade 'optree>=0.13.0'`.\n",
      "  warnings.warn(\n",
      "\n",
      "[notice] A new release of pip is available: 24.2 -> 25.0\n",
      "[notice] To update, run: python.exe -m pip install --upgrade pip\n"
     ]
    }
   ],
   "source": [
    "!python -m spacy download en_core_web_sm\n",
    "nlp = spacy.load(\"en_core_web_sm\")"
   ]
  },
  {
   "cell_type": "markdown",
   "metadata": {},
   "source": [
    "**Input text**"
   ]
  },
  {
   "cell_type": "code",
   "execution_count": 14,
   "metadata": {},
   "outputs": [],
   "source": [
    "text = \"The CEO of the company, a woman named Sarah, announced a new policy.  She emphasized its importance for the future.  The employees, however, expressed some concerns about it.\""
   ]
  },
  {
   "cell_type": "markdown",
   "metadata": {},
   "source": [
    "**Process text**"
   ]
  },
  {
   "cell_type": "code",
   "execution_count": 15,
   "metadata": {},
   "outputs": [],
   "source": [
    "doc = nlp(text)"
   ]
  },
  {
   "cell_type": "markdown",
   "metadata": {},
   "source": [
    "\n",
    "**Print resolved coreferences (Example only; requires additional integration for coref)**\n"
   ]
  },
  {
   "cell_type": "code",
   "execution_count": 17,
   "metadata": {},
   "outputs": [
    {
     "name": "stdout",
     "output_type": "stream",
     "text": [
      "The det CEO\n",
      "CEO nsubj announced\n",
      "of prep CEO\n",
      "the det company\n",
      "company pobj of\n",
      ", punct CEO\n",
      "a det woman\n",
      "woman appos CEO\n",
      "named acl woman\n",
      "Sarah oprd named\n",
      ", punct CEO\n",
      "announced ROOT announced\n",
      "a det policy\n",
      "new amod policy\n",
      "policy dobj announced\n",
      ". punct announced\n",
      "  dep .\n",
      "She nsubj emphasized\n",
      "emphasized ROOT emphasized\n",
      "its poss importance\n",
      "importance dobj emphasized\n",
      "for prep importance\n",
      "the det future\n",
      "future pobj for\n",
      ". punct emphasized\n",
      "  dep .\n",
      "The det employees\n",
      "employees nsubj expressed\n",
      ", punct expressed\n",
      "however advmod expressed\n",
      ", punct expressed\n",
      "expressed ROOT expressed\n",
      "some det concerns\n",
      "concerns dobj expressed\n",
      "about prep concerns\n",
      "it pobj about\n",
      ". punct expressed\n"
     ]
    }
   ],
   "source": [
    "for token in doc:\n",
    "    print(token.text, token.dep_, token.head.text)"
   ]
  }
 ],
 "metadata": {
  "kernelspec": {
   "display_name": "Python 3",
   "language": "python",
   "name": "python3"
  },
  "language_info": {
   "codemirror_mode": {
    "name": "ipython",
    "version": 3
   },
   "file_extension": ".py",
   "mimetype": "text/x-python",
   "name": "python",
   "nbconvert_exporter": "python",
   "pygments_lexer": "ipython3",
   "version": "3.12.5"
  }
 },
 "nbformat": 4,
 "nbformat_minor": 2
}
