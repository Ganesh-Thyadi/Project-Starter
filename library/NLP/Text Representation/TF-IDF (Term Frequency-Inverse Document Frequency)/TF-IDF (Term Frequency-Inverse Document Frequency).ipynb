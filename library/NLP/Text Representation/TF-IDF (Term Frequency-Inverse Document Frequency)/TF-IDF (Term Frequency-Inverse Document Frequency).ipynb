{
 "cells": [
  {
   "cell_type": "markdown",
   "metadata": {},
   "source": [
    "# **TF-IDF (Term Frequency-Inverse Document Frequency)**\n",
    "TF-IDF, or term frequency-inverse document frequency, is a statistical method that measures how relevant words are to a document."
   ]
  },
  {
   "cell_type": "markdown",
   "metadata": {},
   "source": [
    "**Imports**"
   ]
  },
  {
   "cell_type": "code",
   "execution_count": 4,
   "metadata": {},
   "outputs": [],
   "source": [
    "import nltk\n",
    "from sklearn.feature_extraction.text import TfidfVectorizer"
   ]
  },
  {
   "cell_type": "markdown",
   "metadata": {},
   "source": [
    "**Corpus**"
   ]
  },
  {
   "cell_type": "code",
   "execution_count": 1,
   "metadata": {},
   "outputs": [],
   "source": [
    "documents = [\n",
    "    \"Natural language processing is a field of AI.\",\n",
    "    \"Machine learning provides the foundation for NLP.\",\n",
    "    \"TF-IDF is a statistical measure used in NLP.\"\n",
    "]"
   ]
  },
  {
   "cell_type": "markdown",
   "metadata": {},
   "source": [
    "**TF-IDF**"
   ]
  },
  {
   "cell_type": "code",
   "execution_count": 5,
   "metadata": {},
   "outputs": [],
   "source": [
    "tfidf_vectorizer = TfidfVectorizer()\n",
    "\n",
    "# Fit and transform the documents\n",
    "tfidf_matrix = tfidf_vectorizer.fit_transform(documents)\n",
    "\n",
    "# Retrieve feature names\n",
    "feature_names = tfidf_vectorizer.get_feature_names_out()\n",
    "\n",
    "# Convert to array for better readability\n",
    "tfidf_array = tfidf_matrix.toarray()"
   ]
  },
  {
   "cell_type": "markdown",
   "metadata": {},
   "source": [
    "**Representation**"
   ]
  },
  {
   "cell_type": "code",
   "execution_count": 6,
   "metadata": {},
   "outputs": [
    {
     "name": "stdout",
     "output_type": "stream",
     "text": [
      "Document 1:\n",
      "interesting: 0.4674\n",
      "is: 0.4674\n",
      "language: 0.4674\n",
      "natural: 0.4674\n",
      "processing: 0.3554\n",
      "-\n",
      "Document 2:\n",
      "ai: 0.3075\n",
      "and: 0.2338\n",
      "are: 0.3075\n",
      "deep: 0.3075\n",
      "in: 0.3075\n",
      "learning: 0.6149\n",
      "machine: 0.3075\n",
      "popular: 0.3075\n",
      "-\n",
      "Document 3:\n",
      "and: 0.3065\n",
      "include: 0.4030\n",
      "processing: 0.3065\n",
      "stemming: 0.4030\n",
      "techniques: 0.4030\n",
      "text: 0.4030\n",
      "tokenization: 0.4030\n",
      "-\n"
     ]
    }
   ],
   "source": [
    "for i, doc in enumerate(tfidf_array):\n",
    "    print(f\"Document {i+1}:\")\n",
    "    for word, score in zip(feature_names, doc):\n",
    "        if score > 0:\n",
    "            print(f\"{word}: {score:.4f}\")\n",
    "    print(\"-\")"
   ]
  }
 ],
 "metadata": {
  "kernelspec": {
   "display_name": "Python 3",
   "language": "python",
   "name": "python3"
  },
  "language_info": {
   "codemirror_mode": {
    "name": "ipython",
    "version": 3
   },
   "file_extension": ".py",
   "mimetype": "text/x-python",
   "name": "python",
   "nbconvert_exporter": "python",
   "pygments_lexer": "ipython3",
   "version": "3.12.5"
  }
 },
 "nbformat": 4,
 "nbformat_minor": 2
}
