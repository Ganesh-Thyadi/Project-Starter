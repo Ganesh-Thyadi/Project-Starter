{
 "cells": [
  {
   "cell_type": "markdown",
   "metadata": {},
   "source": [
    "# **Bag Of Words(BOW)**\n",
    "\n",
    "Bag of words (BoW) is a technique used to analyze text documents by counting the frequency of words in them. It's a statistical language model that's used in natural language processing (NLP) and information retrieval (IR). BoW models treat text as a collection of words, or \"bag\", and ignore word order and context "
   ]
  },
  {
   "cell_type": "markdown",
   "metadata": {},
   "source": [
    "**Imports**"
   ]
  },
  {
   "cell_type": "code",
   "execution_count": 3,
   "metadata": {},
   "outputs": [],
   "source": [
    "from sklearn.feature_extraction.text import CountVectorizer"
   ]
  },
  {
   "cell_type": "markdown",
   "metadata": {},
   "source": [
    "**Corpus**"
   ]
  },
  {
   "cell_type": "code",
   "execution_count": 1,
   "metadata": {},
   "outputs": [],
   "source": [
    "documents = [\n",
    "    \"Natural Language Processing is interesting.\",\n",
    "    \"Machine learning and deep learning are popular in AI.\",\n",
    "    \"Text processing techniques include tokenization and stemming.\"\n",
    "]"
   ]
  },
  {
   "cell_type": "markdown",
   "metadata": {},
   "source": [
    "**Initialize the CountVectorizer (BoW Model)**"
   ]
  },
  {
   "cell_type": "code",
   "execution_count": 4,
   "metadata": {},
   "outputs": [],
   "source": [
    "vectorizer = CountVectorizer()\n",
    "\n",
    "# Fit and transform the documents\n",
    "bow_matrix = vectorizer.fit_transform(documents)\n",
    "\n",
    "# Retrieve feature names (unique words)\n",
    "feature_names = vectorizer.get_feature_names_out()\n",
    "\n",
    "# Convert matrix to array for better readability\n",
    "bow_array = bow_matrix.toarray()"
   ]
  },
  {
   "cell_type": "code",
   "execution_count": 5,
   "metadata": {},
   "outputs": [
    {
     "name": "stdout",
     "output_type": "stream",
     "text": [
      "Feature Names: ['ai' 'and' 'are' 'deep' 'in' 'include' 'interesting' 'is' 'language'\n",
      " 'learning' 'machine' 'natural' 'popular' 'processing' 'stemming'\n",
      " 'techniques' 'text' 'tokenization']\n",
      "Bag of Words Matrix:\n",
      " [[0 0 0 0 0 0 1 1 1 0 0 1 0 1 0 0 0 0]\n",
      " [1 1 1 1 1 0 0 0 0 2 1 0 1 0 0 0 0 0]\n",
      " [0 1 0 0 0 1 0 0 0 0 0 0 0 1 1 1 1 1]]\n"
     ]
    }
   ],
   "source": [
    "print(\"Feature Names:\", feature_names)\n",
    "print(\"Bag of Words Matrix:\\n\", bow_array)"
   ]
  }
 ],
 "metadata": {
  "kernelspec": {
   "display_name": "Python 3",
   "language": "python",
   "name": "python3"
  },
  "language_info": {
   "codemirror_mode": {
    "name": "ipython",
    "version": 3
   },
   "file_extension": ".py",
   "mimetype": "text/x-python",
   "name": "python",
   "nbconvert_exporter": "python",
   "pygments_lexer": "ipython3",
   "version": "3.12.5"
  }
 },
 "nbformat": 4,
 "nbformat_minor": 2
}
