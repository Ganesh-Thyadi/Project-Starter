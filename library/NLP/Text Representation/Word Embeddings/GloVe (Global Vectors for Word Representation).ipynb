{
 "cells": [
  {
   "cell_type": "markdown",
   "metadata": {},
   "source": [
    "## **GloVe (Global Vectors for Word Representation)**\n",
    "\n",
    "GloVe generates embeddings by factorizing the word co-occurrence matrix, balancing global and local context."
   ]
  },
  {
   "cell_type": "markdown",
   "metadata": {},
   "source": [
    "**Import**"
   ]
  },
  {
   "cell_type": "code",
   "execution_count": 1,
   "metadata": {},
   "outputs": [],
   "source": [
    "import gensim.downloader as api"
   ]
  },
  {
   "cell_type": "markdown",
   "metadata": {},
   "source": [
    "**Load pre-trained GloVe embeddings**"
   ]
  },
  {
   "cell_type": "code",
   "execution_count": 2,
   "metadata": {},
   "outputs": [
    {
     "name": "stdout",
     "output_type": "stream",
     "text": [
      "[==================================================] 100.0% 66.0/66.0MB downloaded\n"
     ]
    }
   ],
   "source": [
    "glove_model = api.load(\"glove-wiki-gigaword-50\")"
   ]
  },
  {
   "cell_type": "markdown",
   "metadata": {},
   "source": [
    "**Get word vector**"
   ]
  },
  {
   "cell_type": "code",
   "execution_count": 3,
   "metadata": {},
   "outputs": [
    {
     "name": "stdout",
     "output_type": "stream",
     "text": [
      "Vector for 'sample': [ 0.35128   0.039497  0.35241   0.032418  0.80215   0.42617  -0.17973\n",
      " -0.27992   1.2916    0.58453   0.67246  -0.70163   1.045     0.12725\n",
      "  0.69075  -0.05367  -0.18499  -0.7518   -0.5047   -1.3139    0.15445\n",
      " -0.10888   1.51      0.45995   0.20452  -0.070016 -1.022     0.46685\n",
      " -0.24834  -0.39889   2.0959   -0.68636  -0.41756  -0.84522   0.59551\n",
      " -0.17554   0.87743   0.80909   0.32158   0.20119   0.9452    0.11658\n",
      " -0.1507    0.42317  -0.30518  -0.27963   0.76269   0.54631   0.17827\n",
      " -0.081607]\n"
     ]
    }
   ],
   "source": [
    "print(\"Vector for 'sample':\", glove_model[\"sample\"])"
   ]
  }
 ],
 "metadata": {
  "kernelspec": {
   "display_name": "Python 3",
   "language": "python",
   "name": "python3"
  },
  "language_info": {
   "codemirror_mode": {
    "name": "ipython",
    "version": 3
   },
   "file_extension": ".py",
   "mimetype": "text/x-python",
   "name": "python",
   "nbconvert_exporter": "python",
   "pygments_lexer": "ipython3",
   "version": "3.12.5"
  }
 },
 "nbformat": 4,
 "nbformat_minor": 2
}
