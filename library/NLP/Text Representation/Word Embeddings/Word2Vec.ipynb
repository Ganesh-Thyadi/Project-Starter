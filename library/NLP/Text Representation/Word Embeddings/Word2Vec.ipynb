{
 "cells": [
  {
   "cell_type": "markdown",
   "metadata": {},
   "source": [
    "## **Word2Vec**\n",
    "\n",
    "Word2Vec generates word embeddings using neural networks, providing semantic meaning to words. It has two variants: CBOW and Skip-Gram."
   ]
  },
  {
   "cell_type": "markdown",
   "metadata": {},
   "source": [
    "**Imports**"
   ]
  },
  {
   "cell_type": "code",
   "execution_count": 3,
   "metadata": {},
   "outputs": [
    {
     "name": "stdout",
     "output_type": "stream",
     "text": [
      "Requirement already satisfied: gensim in c:\\python312\\lib\\site-packages (4.3.3)\n",
      "Requirement already satisfied: numpy<2.0,>=1.18.5 in c:\\python312\\lib\\site-packages (from gensim) (1.26.4)\n",
      "Requirement already satisfied: scipy<1.14.0,>=1.7.0 in c:\\python312\\lib\\site-packages (from gensim) (1.13.1)\n",
      "Requirement already satisfied: smart-open>=1.8.1 in c:\\python312\\lib\\site-packages (from gensim) (6.4.0)\n"
     ]
    },
    {
     "name": "stderr",
     "output_type": "stream",
     "text": [
      "\n",
      "[notice] A new release of pip is available: 24.2 -> 25.0\n",
      "[notice] To update, run: python.exe -m pip install --upgrade pip\n"
     ]
    }
   ],
   "source": [
    "!pip install gensim\n",
    "from gensim.models import Word2Vec\n",
    "\n",
    "# Example sentences\n",
    "sentences = [[\"this\", \"is\", \"a\", \"sample\"], [\"this\", \"is\", \"another\", \"example\"]]"
   ]
  },
  {
   "cell_type": "markdown",
   "metadata": {},
   "source": [
    "**Train Word2Vec model**"
   ]
  },
  {
   "cell_type": "code",
   "execution_count": 4,
   "metadata": {},
   "outputs": [
    {
     "name": "stdout",
     "output_type": "stream",
     "text": [
      "Vector for 'sample': [ 0.00018913  0.00615464 -0.01362529 -0.00275093  0.01533716  0.01469282\n",
      " -0.00734659  0.0052854  -0.01663426  0.01241097 -0.00927464 -0.00632821\n",
      "  0.01862271  0.00174677  0.01498141 -0.01214813  0.01032101  0.01984565\n",
      " -0.01691478 -0.01027138 -0.01412967 -0.0097253  -0.00755713 -0.0170724\n",
      "  0.01591121 -0.00968788  0.01684723  0.01052514 -0.01310005  0.00791574\n",
      "  0.0109403  -0.01485307 -0.01481144 -0.00495046 -0.01725145 -0.00316314\n",
      " -0.00080687  0.00659937  0.00288376 -0.00176284 -0.01118812  0.00346073\n",
      " -0.00179474  0.01358738  0.00794718  0.00905894  0.00286861 -0.00539971\n",
      " -0.00873363 -0.00206415]\n"
     ]
    }
   ],
   "source": [
    "model = Word2Vec(sentences, vector_size=50, window=3, min_count=1, workers=4)\n",
    "\n",
    "# Get word vector\n",
    "print(\"Vector for 'sample':\", model.wv[\"sample\"])"
   ]
  }
 ],
 "metadata": {
  "kernelspec": {
   "display_name": "Python 3",
   "language": "python",
   "name": "python3"
  },
  "language_info": {
   "codemirror_mode": {
    "name": "ipython",
    "version": 3
   },
   "file_extension": ".py",
   "mimetype": "text/x-python",
   "name": "python",
   "nbconvert_exporter": "python",
   "pygments_lexer": "ipython3",
   "version": "3.12.5"
  }
 },
 "nbformat": 4,
 "nbformat_minor": 2
}
