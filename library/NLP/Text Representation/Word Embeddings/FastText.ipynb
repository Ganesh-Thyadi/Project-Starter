{
 "cells": [
  {
   "cell_type": "markdown",
   "metadata": {},
   "source": [
    "## **FastText**\n",
    "\n",
    "FastText extends Word2Vec by generating embeddings for subwords, making it effective for rare and out-of-vocabulary words."
   ]
  },
  {
   "cell_type": "markdown",
   "metadata": {},
   "source": [
    "**Import**"
   ]
  },
  {
   "cell_type": "code",
   "execution_count": 1,
   "metadata": {},
   "outputs": [],
   "source": [
    "from gensim.models import FastText"
   ]
  },
  {
   "cell_type": "markdown",
   "metadata": {},
   "source": [
    "**Train FastText model**"
   ]
  },
  {
   "cell_type": "code",
   "execution_count": 2,
   "metadata": {},
   "outputs": [],
   "source": [
    "sentences = [\n",
    "    \"This is the first sentence.\",\n",
    "    \"This is the second sentence.\",\n",
    "    \"A third sentence for training.\",\n",
    "    \"And a fourth sentence.\",\n",
    "    \"More sentences for the model to learn from.\",\n",
    "    \"Sentence six.\",\n",
    "    \"Sentence seven.\",\n",
    "    \"Sentence eight.\",\n",
    "    \"Sentence nine.\",\n",
    "    \"Tenth and final sentence.\" \n",
    "]"
   ]
  },
  {
   "cell_type": "code",
   "execution_count": 3,
   "metadata": {},
   "outputs": [],
   "source": [
    "fasttext_model = FastText(sentences, vector_size=50, window=3, min_count=1, workers=4)"
   ]
  },
  {
   "cell_type": "code",
   "execution_count": 5,
   "metadata": {},
   "outputs": [
    {
     "data": {
      "text/plain": [
       "(371, 2320)"
      ]
     },
     "execution_count": 5,
     "metadata": {},
     "output_type": "execute_result"
    }
   ],
   "source": [
    "fasttext_model.train(sentences, total_examples=len(sentences), epochs=10)"
   ]
  },
  {
   "cell_type": "markdown",
   "metadata": {},
   "source": [
    "**Get word vector**"
   ]
  },
  {
   "cell_type": "code",
   "execution_count": 7,
   "metadata": {},
   "outputs": [
    {
     "name": "stdout",
     "output_type": "stream",
     "text": [
      "[-0.00252957  0.00332556 -0.00113778 -0.00798112  0.00206316  0.00240791\n",
      " -0.00120479 -0.00593904 -0.00570866  0.00562984  0.01080222  0.00133741\n",
      "  0.00206435 -0.00085066  0.00052998  0.00629501  0.00055028  0.00223641\n",
      " -0.0062598  -0.0014896   0.00247531 -0.00184585  0.00401526  0.00653404\n",
      "  0.00106534  0.00383963  0.01206475  0.00208888 -0.00107616 -0.00099331\n",
      " -0.00160424 -0.0032584   0.00205343 -0.00064475 -0.00636834 -0.00396945\n",
      " -0.00197392 -0.00441058 -0.0004101   0.00545064 -0.00983229 -0.00286927\n",
      " -0.0024077   0.00128509 -0.003848    0.01054134 -0.00036482 -0.00673716\n",
      "  0.00045675 -0.00262082]\n"
     ]
    }
   ],
   "source": [
    "word_vector = fasttext_model.wv['six'] \n",
    "print(word_vector) "
   ]
  }
 ],
 "metadata": {
  "kernelspec": {
   "display_name": "Python 3",
   "language": "python",
   "name": "python3"
  },
  "language_info": {
   "codemirror_mode": {
    "name": "ipython",
    "version": 3
   },
   "file_extension": ".py",
   "mimetype": "text/x-python",
   "name": "python",
   "nbconvert_exporter": "python",
   "pygments_lexer": "ipython3",
   "version": "3.12.5"
  }
 },
 "nbformat": 4,
 "nbformat_minor": 2
}
