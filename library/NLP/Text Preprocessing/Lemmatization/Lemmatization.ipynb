{
 "cells": [
  {
   "cell_type": "markdown",
   "metadata": {},
   "source": [
    "## **Lemmatization**\n",
    "\n",
    "Lemmatization is a more sophisticated technique than stemming. It reduces words to their root form (lemma) based on their meaning, unlike stemming which might create non-valid words.\n",
    "\n",
    "WordNet Lemmatizer: Uses WordNet's lexical database for lemmatization.\n",
    "SpaCy Lemmatizer: Uses SpaCy's in-built lemmatizer, which is part of a full NLP pipeline."
   ]
  },
  {
   "cell_type": "markdown",
   "metadata": {},
   "source": [
    "**Imports**"
   ]
  },
  {
   "cell_type": "code",
   "execution_count": null,
   "metadata": {
    "vscode": {
     "languageId": "plaintext"
    }
   },
   "outputs": [],
   "source": [
    "from nltk.stem import WordNetLemmatizer\n",
    "import spacy"
   ]
  },
  {
   "cell_type": "markdown",
   "metadata": {},
   "source": [
    "**Initialize lemmatizers**"
   ]
  },
  {
   "cell_type": "markdown",
   "metadata": {},
   "source": [
    "wn_lemmatizer = WordNetLemmatizer()\n",
    "nlp = spacy.load(\"en_core_web_sm\")"
   ]
  },
  {
   "cell_type": "markdown",
   "metadata": {},
   "source": [
    "**Lemmatization using WordNet**"
   ]
  },
  {
   "cell_type": "code",
   "execution_count": null,
   "metadata": {
    "vscode": {
     "languageId": "plaintext"
    }
   },
   "outputs": [],
   "source": [
    "lemmatized_word_wn = wn_lemmatizer.lemmatize(word, pos=\"a\")  # Adjective\n",
    "print(\"WordNet Lemmatizer:\", lemmatized_word_wn)"
   ]
  },
  {
   "cell_type": "markdown",
   "metadata": {},
   "source": [
    "**Lemmatization using SpaCy**"
   ]
  },
  {
   "cell_type": "code",
   "execution_count": null,
   "metadata": {
    "vscode": {
     "languageId": "plaintext"
    }
   },
   "outputs": [],
   "source": [
    "doc = nlp(word)\n",
    "lemmatized_word_spacy = [token.lemma_ for token in doc][0]\n",
    "print(\"SpaCy Lemmatizer:\", lemmatized_word_spacy)"
   ]
  }
 ],
 "metadata": {
  "language_info": {
   "name": "python"
  }
 },
 "nbformat": 4,
 "nbformat_minor": 2
}
