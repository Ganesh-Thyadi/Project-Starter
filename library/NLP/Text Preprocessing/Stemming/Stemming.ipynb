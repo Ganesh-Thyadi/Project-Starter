{
 "cells": [
  {
   "cell_type": "markdown",
   "metadata": {},
   "source": [
    "## **Stemming**\n",
    "\n",
    "Stemming is the process of reducing a word to its base or root form. Stemmers remove suffixes to get the root form, which may not always be a valid word.\n",
    "\n",
    "Porter Stemmer: One of the most widely used stemming algorithms.\n",
    "Snowball Stemmer: An improved version of the Porter Stemmer, more aggressive in removing suffixes.\n",
    "Lancaster Stemmer: A very aggressive stemmer that may produce non-standard forms."
   ]
  },
  {
   "cell_type": "markdown",
   "metadata": {},
   "source": [
    "**Imports**"
   ]
  },
  {
   "cell_type": "code",
   "execution_count": null,
   "metadata": {
    "vscode": {
     "languageId": "plaintext"
    }
   },
   "outputs": [],
   "source": [
    "from nltk.stem import PorterStemmer, SnowballStemmer, LancasterStemmer"
   ]
  },
  {
   "cell_type": "markdown",
   "metadata": {},
   "source": [
    "**Initialize stemmers**"
   ]
  },
  {
   "cell_type": "markdown",
   "metadata": {},
   "source": [
    "porter_stemmer = PorterStemmer()\n",
    "snowball_stemmer = SnowballStemmer('english')\n",
    "lancaster_stemmer = LancasterStemmer()"
   ]
  },
  {
   "cell_type": "markdown",
   "metadata": {},
   "source": [
    "**Apply stemming**"
   ]
  },
  {
   "cell_type": "code",
   "execution_count": null,
   "metadata": {
    "vscode": {
     "languageId": "plaintext"
    }
   },
   "outputs": [],
   "source": [
    "porter_stem = porter_stemmer.stem(word)\n",
    "snowball_stem = snowball_stemmer.stem(word)\n",
    "lancaster_stem = lancaster_stemmer.stem(word)\n",
    "\n",
    "print(\"Porter Stemmer:\", porter_stem)\n",
    "print(\"Snowball Stemmer:\", snowball_stem)\n",
    "print(\"Lancaster Stemmer:\", lancaster_stem)"
   ]
  }
 ],
 "metadata": {
  "language_info": {
   "name": "python"
  }
 },
 "nbformat": 4,
 "nbformat_minor": 2
}
