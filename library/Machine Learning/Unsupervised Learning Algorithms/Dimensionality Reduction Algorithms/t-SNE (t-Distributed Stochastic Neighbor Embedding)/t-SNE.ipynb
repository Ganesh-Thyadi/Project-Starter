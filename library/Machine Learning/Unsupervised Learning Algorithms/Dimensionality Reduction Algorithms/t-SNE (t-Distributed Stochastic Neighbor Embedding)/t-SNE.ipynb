{
 "cells": [
  {
   "cell_type": "markdown",
   "metadata": {
    "id": "qOvUfOyWUhpG"
   },
   "source": [
    "## **t-Distributed Stochastic Neighbor Embedding (t-SNE)**\n",
    "\n",
    "t-SNE is a nonlinear dimensionality reduction technique, often used for visualizing high-dimensional data in 2D or 3D space.\n",
    "\n"
   ]
  },
  {
   "cell_type": "markdown",
   "metadata": {
    "id": "P1TWE0LxU_-E"
   },
   "source": [
    "**Imports**"
   ]
  },
  {
   "cell_type": "code",
   "execution_count": 3,
   "metadata": {
    "id": "Z7qDmaLvVEUv"
   },
   "outputs": [],
   "source": [
    "from sklearn.manifold import TSNE\n"
   ]
  },
  {
   "cell_type": "markdown",
   "metadata": {
    "id": "C3qgM8luVJcx"
   },
   "source": [
    "**Data Loading**"
   ]
  },
  {
   "cell_type": "code",
   "execution_count": null,
   "metadata": {
    "id": "2N80pFaOVKtQ"
   },
   "outputs": [],
   "source": [
    "# Load dataset\n",
    "data = pd.read_csv('your_dataset.csv')\n",
    "\n",
    "# Select only numerical features\n",
    "X = data.select_dtypes(include=[np.number])\n"
   ]
  },
  {
   "cell_type": "markdown",
   "metadata": {
    "id": "qToSUcMJVPy8"
   },
   "source": [
    "**t-SNE Transformation**"
   ]
  },
  {
   "cell_type": "code",
   "execution_count": null,
   "metadata": {
    "colab": {
     "base_uri": "https://localhost:8080/",
     "height": 211
    },
    "collapsed": true,
    "id": "jtdvWBDDVQ0m",
    "outputId": "040f53b9-965a-4d1e-ff51-490fa4fc544e"
   },
   "outputs": [],
   "source": [
    "# Initialize and apply t-SNE\n",
    "tsne = TSNE(n_components=2, random_state=42, perplexity=30)\n",
    "X_tsne = tsne.fit_transform(X)\n"
   ]
  },
  {
   "cell_type": "markdown",
   "metadata": {
    "id": "F7wtaSt5V237"
   },
   "source": [
    "**Visualizations**"
   ]
  },
  {
   "cell_type": "code",
   "execution_count": null,
   "metadata": {
    "id": "VEn_guUUV6V7"
   },
   "outputs": [],
   "source": [
    "# Scatter plot of t-SNE results\n",
    "plt.scatter(X_tsne[:, 0], X_tsne[:, 1], c='blue', s=50)\n",
    "plt.title('t-SNE - Reduced to 2 Dimensions')\n",
    "plt.xlabel('t-SNE Component 1')\n",
    "plt.ylabel('t-SNE Component 2')\n",
    "plt.show()\n"
   ]
  }
 ],
 "metadata": {
  "colab": {
   "provenance": []
  },
  "kernelspec": {
   "display_name": "Python 3",
   "name": "python3"
  },
  "language_info": {
   "name": "python"
  }
 },
 "nbformat": 4,
 "nbformat_minor": 0
}
