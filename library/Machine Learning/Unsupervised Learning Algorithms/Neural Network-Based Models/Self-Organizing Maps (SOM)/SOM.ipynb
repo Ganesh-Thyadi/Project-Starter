{
 "cells": [
  {
   "cell_type": "markdown",
   "metadata": {
    "id": "qOvUfOyWUhpG"
   },
   "source": [
    "## **Self-Organizing Maps (SOM)**\n",
    "\n",
    "SOMs are unsupervised neural networks used to map high-dimensional data into a lower-dimensional grid while preserving the topological properties.\n",
    "\n"
   ]
  },
  {
   "cell_type": "markdown",
   "metadata": {
    "id": "P1TWE0LxU_-E"
   },
   "source": [
    "**Imports**"
   ]
  },
  {
   "cell_type": "code",
   "execution_count": 3,
   "metadata": {
    "id": "Z7qDmaLvVEUv"
   },
   "outputs": [],
   "source": [
    "from minisom import MiniSom\n",
    "import numpy as np\n",
    "import matplotlib.pyplot as plt\n"
   ]
  },
  {
   "cell_type": "markdown",
   "metadata": {
    "id": "C3qgM8luVJcx"
   },
   "source": [
    "**Data Loading**"
   ]
  },
  {
   "cell_type": "code",
   "execution_count": null,
   "metadata": {
    "id": "2N80pFaOVKtQ"
   },
   "outputs": [],
   "source": [
    "# Example data (replace with your dataset)\n",
    "data = np.random.rand(100, 4)  # 100 samples with 4 features\n"
   ]
  },
  {
   "cell_type": "markdown",
   "metadata": {
    "id": "5lJ3LJNlVuHt"
   },
   "source": [
    "**Model Building and Training**"
   ]
  },
  {
   "cell_type": "code",
   "execution_count": null,
   "metadata": {
    "id": "ARqNM8R3Vynf"
   },
   "outputs": [],
   "source": [
    "# Initialize SOM\n",
    "som = MiniSom(x=10, y=10, input_len=4, sigma=1.0, learning_rate=0.5)\n",
    "\n",
    "# Initialize weights and train SOM\n",
    "som.random_weights_init(data)\n",
    "som.train_random(data, num_iteration=100)\n",
    "\n",
    "print(\"SOM training completed.\")\n"
   ]
  },
  {
   "cell_type": "markdown",
   "metadata": {
    "id": "F7wtaSt5V237"
   },
   "source": [
    "**Visualizations**"
   ]
  },
  {
   "cell_type": "code",
   "execution_count": null,
   "metadata": {
    "id": "VEn_guUUV6V7"
   },
   "outputs": [],
   "source": [
    "# Plot the SOM distance map (U-Matrix)\n",
    "plt.figure(figsize=(10, 10))\n",
    "plt.pcolor(som.distance_map().T, cmap='coolwarm')  # Distance map as background\n",
    "plt.colorbar()\n",
    "\n",
    "# Mark winning nodes for each data point\n",
    "for idx, sample in enumerate(data):\n",
    "    w = som.winner(sample)  # Get winning node\n",
    "    plt.text(w[0] + 0.5, w[1] + 0.5, str(idx), color='black', ha='center', va='center')\n",
    "\n",
    "plt.title('SOM Distance Map')\n",
    "plt.show()\n"
   ]
  }
 ],
 "metadata": {
  "colab": {
   "provenance": []
  },
  "kernelspec": {
   "display_name": "Python 3",
   "name": "python3"
  },
  "language_info": {
   "name": "python"
  }
 },
 "nbformat": 4,
 "nbformat_minor": 0
}
