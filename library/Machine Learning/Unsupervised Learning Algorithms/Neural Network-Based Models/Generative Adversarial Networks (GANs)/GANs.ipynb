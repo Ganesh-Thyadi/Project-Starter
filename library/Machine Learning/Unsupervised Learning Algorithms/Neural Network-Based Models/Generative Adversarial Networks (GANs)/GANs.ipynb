{
 "cells": [
  {
   "cell_type": "markdown",
   "metadata": {
    "id": "qOvUfOyWUhpG"
   },
   "source": [
    "## **Generative Adversarial Networks (GANs)**\n",
    "\n",
    "Linear Regression is a simple supervised learning algorithm used for predicting a continuous target variable based on one or more features. It assumes a linear relationship between the independent variables and the dependent variable.\n",
    "\n"
   ]
  },
  {
   "cell_type": "markdown",
   "metadata": {
    "id": "P1TWE0LxU_-E"
   },
   "source": [
    "**Imports**"
   ]
  },
  {
   "cell_type": "code",
   "execution_count": 3,
   "metadata": {
    "id": "Z7qDmaLvVEUv"
   },
   "outputs": [],
   "source": [
    "import tensorflow as tf\n",
    "from tensorflow.keras import layers\n",
    "import numpy as np\n",
    "import matplotlib.pyplot as plt\n"
   ]
  },
  {
   "cell_type": "markdown",
   "metadata": {
    "id": "C3qgM8luVJcx"
   },
   "source": [
    "**Data Loading**"
   ]
  },
  {
   "cell_type": "code",
   "execution_count": null,
   "metadata": {
    "id": "2N80pFaOVKtQ"
   },
   "outputs": [],
   "source": [
    "# Example: Load MNIST dataset\n",
    "(x_train, _), (_, _) = tf.keras.datasets.mnist.load_data()\n",
    "x_train = (x_train.astype('float32') - 127.5) / 127.5  # Normalize to [-1, 1]\n",
    "x_train = x_train.reshape(x_train.shape[0], 28, 28, 1)\n"
   ]
  },
  {
   "cell_type": "markdown",
   "metadata": {
    "id": "qToSUcMJVPy8"
   },
   "source": [
    "**Model Building**"
   ]
  },
  {
   "cell_type": "code",
   "execution_count": null,
   "metadata": {
    "colab": {
     "base_uri": "https://localhost:8080/",
     "height": 211
    },
    "collapsed": true,
    "id": "jtdvWBDDVQ0m",
    "outputId": "040f53b9-965a-4d1e-ff51-490fa4fc544e"
   },
   "outputs": [],
   "source": [
    "# Generator Model\n",
    "def build_generator():\n",
    "    model = tf.keras.Sequential([\n",
    "        layers.Dense(128, activation='relu', input_dim=100),\n",
    "        layers.Reshape((4, 4, 8)),\n",
    "        layers.Conv2DTranspose(64, kernel_size=4, strides=2, padding='same', activation='relu'),\n",
    "        layers.Conv2DTranspose(1, kernel_size=4, strides=7, padding='same', activation='tanh')\n",
    "    ])\n",
    "    return model\n",
    "\n",
    "# Discriminator Model\n",
    "def build_discriminator():\n",
    "    model = tf.keras.Sequential([\n",
    "        layers.Conv2D(64, kernel_size=4, strides=2, padding='same', input_shape=(28, 28, 1)),\n",
    "        layers.LeakyReLU(alpha=0.2),\n",
    "        layers.Flatten(),\n",
    "        layers.Dense(1, activation='sigmoid')\n",
    "    ])\n",
    "    return model\n",
    "\n",
    "generator = build_generator()\n",
    "discriminator = build_discriminator()\n",
    "discriminator.compile(optimizer='adam', loss='binary_crossentropy')\n"
   ]
  },
  {
   "cell_type": "markdown",
   "metadata": {},
   "source": [
    "**Training the GAN**"
   ]
  },
  {
   "cell_type": "code",
   "execution_count": null,
   "metadata": {},
   "outputs": [],
   "source": [
    "# GAN Model (Generator + Discriminator)\n",
    "discriminator.trainable = False\n",
    "gan_input = layers.Input(shape=(100,))\n",
    "fake_image = generator(gan_input)\n",
    "gan_output = discriminator(fake_image)\n",
    "gan = tf.keras.models.Model(gan_input, gan_output)\n",
    "gan.compile(optimizer='adam', loss='binary_crossentropy')\n",
    "\n",
    "# Training loop\n",
    "batch_size = 64\n",
    "epochs = 10000\n",
    "for epoch in range(epochs):\n",
    "    # Train discriminator\n",
    "    real_images = x_train[np.random.randint(0, x_train.shape[0], batch_size)]\n",
    "    fake_images = generator.predict(np.random.randn(batch_size, 100))\n",
    "    real_labels = np.ones((batch_size, 1))\n",
    "    fake_labels = np.zeros((batch_size, 1))\n",
    "    discriminator.train_on_batch(real_images, real_labels)\n",
    "    discriminator.train_on_batch(fake_images, fake_labels)\n",
    "\n",
    "    # Train generator via GAN\n",
    "    noise = np.random.randn(batch_size, 100)\n",
    "    misleading_labels = np.ones((batch_size, 1))\n",
    "    gan.train_on_batch(noise, misleading_labels)\n",
    "\n",
    "    if epoch % 1000 == 0:\n",
    "        print(f\"Epoch {epoch}: GAN training step completed.\")\n"
   ]
  },
  {
   "cell_type": "markdown",
   "metadata": {
    "id": "F7wtaSt5V237"
   },
   "source": [
    "**Visualizations**"
   ]
  },
  {
   "cell_type": "code",
   "execution_count": null,
   "metadata": {
    "id": "VEn_guUUV6V7"
   },
   "outputs": [],
   "source": [
    "# Generate and visualize new images\n",
    "noise = np.random.randn(16, 100)\n",
    "generated_images = generator.predict(noise)\n",
    "\n",
    "plt.figure(figsize=(10, 10))\n",
    "for i in range(16):\n",
    "    plt.subplot(4, 4, i + 1)\n",
    "    plt.imshow(generated_images[i, :, :, 0], cmap='gray')\n",
    "    plt.axis('off')\n",
    "plt.suptitle(\"Generated Images\")\n",
    "plt.show()\n"
   ]
  }
 ],
 "metadata": {
  "colab": {
   "provenance": []
  },
  "kernelspec": {
   "display_name": "Python 3",
   "name": "python3"
  },
  "language_info": {
   "name": "python"
  }
 },
 "nbformat": 4,
 "nbformat_minor": 0
}
