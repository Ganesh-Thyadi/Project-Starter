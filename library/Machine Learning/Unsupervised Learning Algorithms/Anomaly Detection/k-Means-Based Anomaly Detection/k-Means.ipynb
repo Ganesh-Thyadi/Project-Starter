{
 "cells": [
  {
   "cell_type": "markdown",
   "metadata": {
    "id": "qOvUfOyWUhpG"
   },
   "source": [
    "## **k-Means-Based Anomaly Detection**\n",
    "\n",
    "k-Means clusters data and identifies anomalies as points distant from their cluster centroids.\n",
    "\n"
   ]
  },
  {
   "cell_type": "markdown",
   "metadata": {
    "id": "P1TWE0LxU_-E"
   },
   "source": [
    "**Imports**"
   ]
  },
  {
   "cell_type": "code",
   "execution_count": 3,
   "metadata": {
    "id": "Z7qDmaLvVEUv"
   },
   "outputs": [],
   "source": [
    "from sklearn.cluster import KMeans\n",
    "from sklearn.metrics import pairwise_distances_argmin_min\n"
   ]
  },
  {
   "cell_type": "markdown",
   "metadata": {
    "id": "C3qgM8luVJcx"
   },
   "source": [
    "**Data Loading**"
   ]
  },
  {
   "cell_type": "code",
   "execution_count": null,
   "metadata": {
    "id": "2N80pFaOVKtQ"
   },
   "outputs": [],
   "source": [
    "# Load dataset\n",
    "data = pd.read_csv('your_dataset.csv')\n",
    "\n",
    "# Select features for anomaly detection\n",
    "X = data[['feature1', 'feature2']]  # Replace with relevant feature columns\n"
   ]
  },
  {
   "cell_type": "markdown",
   "metadata": {
    "id": "qToSUcMJVPy8"
   },
   "source": [
    "**Model Building and Predictions**"
   ]
  },
  {
   "cell_type": "code",
   "execution_count": null,
   "metadata": {
    "colab": {
     "base_uri": "https://localhost:8080/",
     "height": 211
    },
    "collapsed": true,
    "id": "jtdvWBDDVQ0m",
    "outputId": "040f53b9-965a-4d1e-ff51-490fa4fc544e"
   },
   "outputs": [],
   "source": [
    "# Apply k-Means clustering\n",
    "kmeans = KMeans(n_clusters=3, random_state=42)\n",
    "data['cluster'] = kmeans.fit_predict(X)\n",
    "\n",
    "# Compute distances to the nearest centroid\n",
    "distances = pairwise_distances_argmin_min(X, kmeans.cluster_centers_)[1]\n",
    "\n",
    "# Define anomalies as points with distances above a threshold\n",
    "threshold = np.percentile(distances, 95)\n",
    "data['anomaly'] = (distances > threshold).astype(int)\n",
    "\n",
    "# Anomalies are labeled as 1\n",
    "anomalies = data[data['anomaly'] == 1]\n",
    "print(\"Number of anomalies detected:\", len(anomalies))\n"
   ]
  },
  {
   "cell_type": "markdown",
   "metadata": {
    "id": "h0a24kpEVfIZ"
   },
   "source": [
    "**Visualizations**"
   ]
  },
  {
   "cell_type": "code",
   "execution_count": null,
   "metadata": {
    "id": "YGdDRzYRViZE"
   },
   "outputs": [],
   "source": [
    "# Plot anomalies and regular points\n",
    "plt.scatter(X['feature1'], X['feature2'], label='Normal', c='blue', s=20)\n",
    "plt.scatter(anomalies['feature1'], anomalies['feature2'], label='Anomaly', c='red', s=20)\n",
    "plt.title('k-Means-Based Anomaly Detection')\n",
    "plt.xlabel('Feature 1')\n",
    "plt.ylabel('Feature 2')\n",
    "plt.legend()\n",
    "plt.show()\n"
   ]
  }
 ],
 "metadata": {
  "colab": {
   "provenance": []
  },
  "kernelspec": {
   "display_name": "Python 3",
   "name": "python3"
  },
  "language_info": {
   "name": "python"
  }
 },
 "nbformat": 4,
 "nbformat_minor": 0
}
