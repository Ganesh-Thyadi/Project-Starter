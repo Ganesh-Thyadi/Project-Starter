{
  "cells": [
    {
      "cell_type": "markdown",
      "metadata": {
        "id": "qOvUfOyWUhpG"
      },
      "source": [
        "## **Co-Training**\n",
        "\n",
        "Co-Training is a semi-supervised learning algorithm where two separate classifiers are trained on two distinct views (feature sets) of the data.\n"
      ]
    },
    {
      "cell_type": "markdown",
      "metadata": {
        "id": "P1TWE0LxU_-E"
      },
      "source": [
        "**Imports**"
      ]
    },
    {
      "cell_type": "code",
      "execution_count": 3,
      "metadata": {
        "id": "Z7qDmaLvVEUv"
      },
      "outputs": [],
      "source": [
        "import numpy as np\n",
        "from sklearn.base import BaseEstimator, ClassifierMixin\n",
        "from sklearn.model_selection import train_test_split\n",
        "from sklearn.datasets import make_classification\n",
        "from sklearn.metrics import accuracy_score\n"
      ]
    },
    {
      "cell_type": "markdown",
      "metadata": {
        "id": "C3qgM8luVJcx"
      },
      "source": [
        "**Data Loading**"
      ]
    },
    {
      "cell_type": "code",
      "execution_count": null,
      "metadata": {
        "id": "2N80pFaOVKtQ"
      },
      "outputs": [],
      "source": [
        "# Create a synthetic dataset with some unlabeled data\n",
        "X, y = make_classification(n_samples=1000, n_features=20, n_classes=2, random_state=42)\n",
        "y[::5] = -1  # Assigning -1 (unlabeled) to every 5th sample\n",
        "\n",
        "# Split the data into training and testing sets\n",
        "X_train, X_test, y_train, y_test = train_test_split(X, y, test_size=0.2, random_state=42)\n"
      ]
    },
    {
      "cell_type": "markdown",
      "metadata": {
        "id": "qToSUcMJVPy8"
      },
      "source": [
        "**Minimal Preprocessing**"
      ]
    },
    {
      "cell_type": "code",
      "execution_count": null,
      "metadata": {
        "colab": {
          "base_uri": "https://localhost:8080/",
          "height": 211
        },
        "collapsed": true,
        "id": "jtdvWBDDVQ0m",
        "outputId": "040f53b9-965a-4d1e-ff51-490fa4fc544e"
      },
      "outputs": [],
      "source": [
        "# No significant preprocessing required for this synthetic dataset\n"
      ]
    },
    {
      "cell_type": "markdown",
      "metadata": {
        "id": "h0a24kpEVfIZ"
      },
      "source": [
        "**Model Building**"
      ]
    },
    {
      "cell_type": "code",
      "execution_count": null,
      "metadata": {
        "id": "YGdDRzYRViZE"
      },
      "outputs": [],
      "source": [
        "# A simple base learner for co-training: A decision tree classifier\n",
        "from sklearn.tree import DecisionTreeClassifier\n",
        "\n",
        "# Define the co-training classifier\n",
        "class CoTraining(BaseEstimator, ClassifierMixin):\n",
        "    def __init__(self, base_learner=DecisionTreeClassifier(), n_iterations=10):\n",
        "        self.base_learner = base_learner\n",
        "        self.n_iterations = n_iterations\n",
        "    \n",
        "    def fit(self, X, y):\n",
        "        # Split data into two views (features)\n",
        "        X1, X2 = X[:, :X.shape[1]//2], X[:, X.shape[1]//2:]\n",
        "        \n",
        "        # Initialize two base learners\n",
        "        self.learner1 = self.base_learner.fit(X1, y)\n",
        "        self.learner2 = self.base_learner.fit(X2, y)\n",
        "        \n",
        "        for _ in range(self.n_iterations):\n",
        "            # Generate pseudo-labels from each classifier for the unlabeled data\n",
        "            pseudo_labels1 = self.learner1.predict(X1)\n",
        "            pseudo_labels2 = self.learner2.predict(X2)\n",
        "            \n",
        "            # Add pseudo-labeled samples to each classifier's training set\n",
        "            X1_new, y1_new = X1[pseudo_labels1 != -1], pseudo_labels1[pseudo_labels1 != -1]\n",
        "            X2_new, y2_new = X2[pseudo_labels2 != -1], pseudo_labels2[pseudo_labels2 != -1]\n",
        "            \n",
        "            # Re-train with updated labels\n",
        "            self.learner1.fit(X1_new, y1_new)\n",
        "            self.learner2.fit(X2_new, y2_new)\n",
        "        \n",
        "        return self\n",
        "    \n",
        "    def predict(self, X):\n",
        "        X1, X2 = X[:, :X.shape[1]//2], X[:, X.shape[1]//2:]\n",
        "        pred1 = self.learner1.predict(X1)\n",
        "        pred2 = self.learner2.predict(X2)\n",
        "        # Combine predictions from both learners\n",
        "        return np.round((pred1 + pred2) / 2)\n",
        "\n",
        "# Initialize and train the co-training model\n",
        "co_training_model = CoTraining(n_iterations=5)\n",
        "co_training_model.fit(X_train, y_train)\n"
      ]
    },
    {
      "cell_type": "markdown",
      "metadata": {
        "id": "gS5BfgpGVln2"
      },
      "source": [
        "**Predictions**"
      ]
    },
    {
      "cell_type": "code",
      "execution_count": null,
      "metadata": {
        "id": "rcjFFa-bVpkk"
      },
      "outputs": [],
      "source": [
        "# Make predictions on the test set\n",
        "y_pred = co_training_model.predict(X_test)\n"
      ]
    },
    {
      "cell_type": "markdown",
      "metadata": {
        "id": "5lJ3LJNlVuHt"
      },
      "source": [
        "**Performance Metrics**"
      ]
    },
    {
      "cell_type": "code",
      "execution_count": null,
      "metadata": {
        "id": "ARqNM8R3Vynf"
      },
      "outputs": [],
      "source": [
        "# Evaluate the model's performance\n",
        "accuracy = accuracy_score(y_test, y_pred)\n",
        "print(f\"Accuracy: {accuracy * 100:.2f}%\")\n"
      ]
    },
    {
      "cell_type": "markdown",
      "metadata": {
        "id": "F7wtaSt5V237"
      },
      "source": [
        "**Visualizations**"
      ]
    },
    {
      "cell_type": "code",
      "execution_count": null,
      "metadata": {
        "id": "VEn_guUUV6V7"
      },
      "outputs": [],
      "source": [
        "# Visualizing the results (for demonstration purposes, we'll plot only two features)\n",
        "plt.scatter(X_test[:, 0], X_test[:, 1], c=y_pred, cmap='plasma')\n",
        "plt.title(\"Co-Training - Prediction\")\n",
        "plt.show()\n"
      ]
    }
  ],
  "metadata": {
    "colab": {
      "provenance": []
    },
    "kernelspec": {
      "display_name": "Python 3",
      "name": "python3"
    },
    "language_info": {
      "name": "python"
    }
  },
  "nbformat": 4,
  "nbformat_minor": 0
}
