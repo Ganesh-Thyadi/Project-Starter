{
  "cells": [
    {
      "cell_type": "markdown",
      "metadata": {
        "id": "qOvUfOyWUhpG"
      },
      "source": [
        "## **Pseudo-Labeling**\n",
        "\n",
        "Pseudo-Labeling is a semi-supervised learning technique where a model is first trained on labeled data. After the initial model is trained, it is used to generate labels for the unlabeled data, which are treated as \"pseudo-labels.\" These pseudo-labeled data points are then added to the training set, and the model is retrained.\n",
        "\n"
      ]
    },
    {
      "cell_type": "markdown",
      "metadata": {
        "id": "P1TWE0LxU_-E"
      },
      "source": [
        "**Imports**"
      ]
    },
    {
      "cell_type": "code",
      "execution_count": 3,
      "metadata": {
        "id": "Z7qDmaLvVEUv"
      },
      "outputs": [],
      "source": [
        "import numpy as np\n",
        "from sklearn.datasets import make_classification\n",
        "from sklearn.model_selection import train_test_split\n",
        "from sklearn.metrics import accuracy_score\n",
        "from sklearn.linear_model import LogisticRegression\n"
      ]
    },
    {
      "cell_type": "markdown",
      "metadata": {
        "id": "C3qgM8luVJcx"
      },
      "source": [
        "**Data Loading**"
      ]
    },
    {
      "cell_type": "code",
      "execution_count": null,
      "metadata": {
        "id": "2N80pFaOVKtQ"
      },
      "outputs": [],
      "source": [
        "# Create a synthetic dataset with some unlabeled data\n",
        "X, y = make_classification(n_samples=1000, n_features=20, n_classes=2, random_state=42)\n",
        "y[::5] = -1  # Assigning -1 (unlabeled) to every 5th sample\n",
        "\n",
        "# Split the data into training and testing sets\n",
        "X_train, X_test, y_train, y_test = train_test_split(X, y, test_size=0.2, random_state=42)\n"
      ]
    },
    {
      "cell_type": "markdown",
      "metadata": {
        "id": "qToSUcMJVPy8"
      },
      "source": [
        "**Preprocessing**"
      ]
    },
    {
      "cell_type": "code",
      "execution_count": null,
      "metadata": {
        "colab": {
          "base_uri": "https://localhost:8080/",
          "height": 211
        },
        "collapsed": true,
        "id": "jtdvWBDDVQ0m",
        "outputId": "040f53b9-965a-4d1e-ff51-490fa4fc544e"
      },
      "outputs": [],
      "source": [
        "# No significant preprocessing required for this synthetic dataset\n"
      ]
    },
    {
      "cell_type": "markdown",
      "metadata": {
        "id": "h0a24kpEVfIZ"
      },
      "source": [
        "**Model Building**"
      ]
    },
    {
      "cell_type": "code",
      "execution_count": null,
      "metadata": {
        "id": "YGdDRzYRViZE"
      },
      "outputs": [],
      "source": [
        "# Initialize the base model (Logistic Regression)\n",
        "model = LogisticRegression()\n",
        "\n",
        "# Train the model using the labeled data\n",
        "model.fit(X_train, y_train[y_train != -1])  # Fit only on labeled data\n",
        "\n",
        "# Generate pseudo-labels for the unlabeled data\n",
        "pseudo_labels = model.predict(X_train[y_train == -1])\n",
        "\n",
        "# Add pseudo-labeled data to the training set\n",
        "X_train_pseudo = np.vstack([X_train[y_train != -1], X_train[y_train == -1]])\n",
        "y_train_pseudo = np.concatenate([y_train[y_train != -1], pseudo_labels])\n",
        "\n",
        "# Retrain the model with pseudo-labeled data\n",
        "model.fit(X_train_pseudo, y_train_pseudo)\n"
      ]
    },
    {
      "cell_type": "markdown",
      "metadata": {
        "id": "gS5BfgpGVln2"
      },
      "source": [
        "**Pedictions**"
      ]
    },
    {
      "cell_type": "code",
      "execution_count": null,
      "metadata": {
        "id": "rcjFFa-bVpkk"
      },
      "outputs": [],
      "source": [
        "# Make predictions on the test set\n",
        "y_pred = model.predict(X_test)\n"
      ]
    },
    {
      "cell_type": "markdown",
      "metadata": {
        "id": "5lJ3LJNlVuHt"
      },
      "source": [
        "**Performance Metrics**"
      ]
    },
    {
      "cell_type": "code",
      "execution_count": null,
      "metadata": {
        "id": "ARqNM8R3Vynf"
      },
      "outputs": [],
      "source": [
        "# Evaluate the model's performance\n",
        "accuracy = accuracy_score(y_test, y_pred)\n",
        "print(f\"Accuracy: {accuracy * 100:.2f}%\")\n"
      ]
    },
    {
      "cell_type": "markdown",
      "metadata": {
        "id": "F7wtaSt5V237"
      },
      "source": [
        "**Visualizations**"
      ]
    },
    {
      "cell_type": "code",
      "execution_count": null,
      "metadata": {
        "id": "VEn_guUUV6V7"
      },
      "outputs": [],
      "source": [
        "# Visualizing the results (for demonstration purposes, we'll plot only two features)\n",
        "import matplotlib.pyplot as plt\n",
        "\n",
        "plt.scatter(X_test[:, 0], X_test[:, 1], c=y_pred, cmap='viridis')\n",
        "plt.title(\"Pseudo-Labeling - Prediction\")\n",
        "plt.show()\n"
      ]
    }
  ],
  "metadata": {
    "colab": {
      "provenance": []
    },
    "kernelspec": {
      "display_name": "Python 3",
      "name": "python3"
    },
    "language_info": {
      "name": "python"
    }
  },
  "nbformat": 4,
  "nbformat_minor": 0
}
