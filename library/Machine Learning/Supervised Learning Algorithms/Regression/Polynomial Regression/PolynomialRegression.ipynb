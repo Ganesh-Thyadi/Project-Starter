{
 "cells": [
  {
   "cell_type": "markdown",
   "metadata": {
    "id": "6D9Ci2tPWRAT"
   },
   "source": [
    "## **Polynomial** **Regression**\n",
    "\n",
    "Polynomial Regression extends Linear Regression by fitting a non-linear polynomial relationship between the features and the target."
   ]
  },
  {
   "cell_type": "markdown",
   "metadata": {
    "id": "UScDydSmWVaq"
   },
   "source": [
    "**Imports**"
   ]
  },
  {
   "cell_type": "code",
   "execution_count": null,
   "metadata": {
    "id": "02w0svyrWXke"
   },
   "outputs": [],
   "source": [
    "from sklearn.preprocessing import PolynomialFeatures\n",
    "from sklearn.linear_model import LinearRegression\n",
    "from sklearn.metrics import mean_squared_error, r2_score\n"
   ]
  },
  {
   "cell_type": "markdown",
   "metadata": {
    "id": "x6mdDQBPWc9H"
   },
   "source": [
    "**Data Loading**"
   ]
  },
  {
   "cell_type": "code",
   "execution_count": null,
   "metadata": {
    "id": "SB4v9VJZWfeG"
   },
   "outputs": [],
   "source": [
    "# Load dataset (replace 'your_dataset.csv' with your dataset)\n",
    "data = pd.read_csv('your_dataset.csv')\n",
    "\n",
    "# Display the first few rows\n",
    "print(data.head())\n"
   ]
  },
  {
   "cell_type": "markdown",
   "metadata": {
    "id": "7E3YJebZWlMq"
   },
   "source": [
    "**Minimal Preprocessing**"
   ]
  },
  {
   "cell_type": "code",
   "execution_count": null,
   "metadata": {
    "id": "2GW6nlvkWny6"
   },
   "outputs": [],
   "source": [
    "# Handling missing values (if any)\n",
    "data.fillna(data.mean(), inplace=True)\n",
    "\n",
    "# Splitting the data into features and target\n",
    "X = data.iloc[:, :-1]  # All columns except the last one as features\n",
    "y = data.iloc[:, -1]   # The last column as target\n",
    "\n",
    "# Splitting into training and test sets\n",
    "X_train, X_test, y_train, y_test = train_test_split(X, y, test_size=0.2, random_state=42)\n"
   ]
  },
  {
   "cell_type": "markdown",
   "metadata": {
    "id": "7d0jOoT8WtCf"
   },
   "source": [
    "**Model Building**"
   ]
  },
  {
   "cell_type": "code",
   "execution_count": null,
   "metadata": {
    "id": "HKYrti0EWvwp"
   },
   "outputs": [],
   "source": [
    "# Transform the features to polynomial features\n",
    "poly = PolynomialFeatures(degree=2)  # You can change the degree\n",
    "X_poly = poly.fit_transform(X_train)\n",
    "\n",
    "# Train the Polynomial Regression model\n",
    "model = LinearRegression()\n",
    "model.fit(X_poly, y_train)\n"
   ]
  },
  {
   "cell_type": "markdown",
   "metadata": {
    "id": "dCl1R6d7Wy9Q"
   },
   "source": [
    "**Predictions**"
   ]
  },
  {
   "cell_type": "code",
   "execution_count": null,
   "metadata": {
    "id": "McgtwBW0W03c"
   },
   "outputs": [],
   "source": [
    "# Make predictions on the test set\n",
    "X_test_poly = poly.transform(X_test)\n",
    "y_pred = model.predict(X_test_poly)\n"
   ]
  },
  {
   "cell_type": "markdown",
   "metadata": {
    "id": "Vsvi_aQIW51j"
   },
   "source": [
    "**Performance Metrics**"
   ]
  },
  {
   "cell_type": "code",
   "execution_count": null,
   "metadata": {
    "id": "bHZZJKL2XAQo"
   },
   "outputs": [],
   "source": [
    "# Calculate Mean Squared Error and R^2 Score\n",
    "mse = mean_squared_error(y_test, y_pred)\n",
    "r2 = r2_score(y_test, y_pred)\n",
    "\n",
    "print(\"Mean Squared Error:\", mse)\n",
    "print(\"R^2 Score:\", r2)\n"
   ]
  },
  {
   "cell_type": "markdown",
   "metadata": {
    "id": "F6COpTkSXCkr"
   },
   "source": [
    "**Visualizations**"
   ]
  },
  {
   "cell_type": "code",
   "execution_count": null,
   "metadata": {
    "id": "7VPyVEkxXG8Z"
   },
   "outputs": [],
   "source": [
    "# Scatter plot of actual vs predicted values\n",
    "plt.scatter(y_test, y_pred)\n",
    "plt.title('Actual vs Predicted')\n",
    "plt.xlabel('Actual Values')\n",
    "plt.ylabel('Predicted Values')\n",
    "plt.show()\n",
    "\n",
    "# Residual plot\n",
    "residuals = y_test - y_pred\n",
    "plt.scatter(y_pred, residuals)\n",
    "plt.title('Residuals vs Predicted')\n",
    "plt.xlabel('Predicted Values')\n",
    "plt.ylabel('Residuals')\n",
    "plt.axhline(y=0, color='r', linestyle='--')\n",
    "plt.show()\n"
   ]
  }
 ],
 "metadata": {
  "colab": {
   "provenance": []
  },
  "kernelspec": {
   "display_name": "Python 3",
   "name": "python3"
  },
  "language_info": {
   "name": "python"
  }
 },
 "nbformat": 4,
 "nbformat_minor": 0
}
