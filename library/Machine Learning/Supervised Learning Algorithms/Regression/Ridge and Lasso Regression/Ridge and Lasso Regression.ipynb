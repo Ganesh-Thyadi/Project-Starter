{
 "cells": [
  {
   "cell_type": "markdown",
   "metadata": {
    "id": "NcA3COxxXMbk"
   },
   "source": [
    "## **Ridge and Lasso Regression**\n",
    "These are regularized versions of Linear Regression. Ridge applies L2 regularization to reduce model complexity, while Lasso applies L1 regularization for sparse solutions."
   ]
  },
  {
   "cell_type": "markdown",
   "metadata": {
    "id": "nS9dGfSjXOPA"
   },
   "source": [
    "**Imports**"
   ]
  },
  {
   "cell_type": "code",
   "execution_count": null,
   "metadata": {
    "id": "1ZstGxCcXSUm"
   },
   "outputs": [],
   "source": [
    "from sklearn.linear_model import Ridge, Lasso\n",
    "from sklearn.metrics import mean_squared_error, r2_score\n"
   ]
  },
  {
   "cell_type": "markdown",
   "metadata": {
    "id": "VJ99nkydXf-H"
   },
   "source": [
    "**Data Loading**"
   ]
  },
  {
   "cell_type": "code",
   "execution_count": null,
   "metadata": {
    "id": "Bjy6F-mWXnu-"
   },
   "outputs": [],
   "source": [
    "# Load dataset (replace 'your_dataset.csv' with your dataset)\n",
    "data = pd.read_csv('your_dataset.csv')\n",
    "\n",
    "# Display the first few rows\n",
    "print(data.head())\n"
   ]
  },
  {
   "cell_type": "markdown",
   "metadata": {
    "id": "W3JJqHv-XriV"
   },
   "source": [
    "**Minimal Preprocessing**"
   ]
  },
  {
   "cell_type": "code",
   "execution_count": null,
   "metadata": {
    "id": "1Izj0Nw6XxGt"
   },
   "outputs": [],
   "source": [
    "# Handling missing values (if any)\n",
    "data.fillna(data.mean(), inplace=True)\n",
    "\n",
    "# Splitting the data into features and target\n",
    "X = data.iloc[:, :-1]  # All columns except the last one as features\n",
    "y = data.iloc[:, -1]   # The last column as target\n",
    "\n",
    "# Splitting into training and test sets\n",
    "X_train, X_test, y_train, y_test = train_test_split(X, y, test_size=0.2, random_state=42)\n"
   ]
  },
  {
   "cell_type": "markdown",
   "metadata": {
    "id": "2z5v9R5zX03L"
   },
   "source": [
    "**Model Building**"
   ]
  },
  {
   "cell_type": "code",
   "execution_count": null,
   "metadata": {
    "id": "ZDuT_kbLX6Ui"
   },
   "outputs": [],
   "source": [
    "# Ridge Regression\n",
    "ridge_model = Ridge(alpha=1.0)\n",
    "ridge_model.fit(X_train, y_train)\n",
    "\n",
    "# Lasso Regression\n",
    "lasso_model = Lasso(alpha=0.1)\n",
    "lasso_model.fit(X_train, y_train)\n"
   ]
  },
  {
   "cell_type": "markdown",
   "metadata": {
    "id": "iqR7QwM6X8mt"
   },
   "source": [
    "**Predictions**"
   ]
  },
  {
   "cell_type": "code",
   "execution_count": null,
   "metadata": {
    "id": "4PxzV0nNX-_P"
   },
   "outputs": [],
   "source": [
    "# Ridge Predictions\n",
    "ridge_pred = ridge_model.predict(X_test)\n",
    "\n",
    "# Lasso Predictions\n",
    "lasso_pred = lasso_model.predict(X_test)\n"
   ]
  },
  {
   "cell_type": "markdown",
   "metadata": {
    "id": "gHNtLGHeYHr1"
   },
   "source": [
    "**Performance Metrics**"
   ]
  },
  {
   "cell_type": "code",
   "execution_count": null,
   "metadata": {
    "id": "QLIyZGM-YItS"
   },
   "outputs": [],
   "source": [
    "# Ridge\n",
    "ridge_mse = mean_squared_error(y_test, ridge_pred)\n",
    "ridge_r2 = r2_score(y_test, ridge_pred)\n",
    "print(\"Ridge - Mean Squared Error:\", ridge_mse)\n",
    "print(\"Ridge - R^2 Score:\", ridge_r2)\n",
    "\n",
    "# Lasso\n",
    "lasso_mse = mean_squared_error(y_test, lasso_pred)\n",
    "lasso_r2 = r2_score(y_test, lasso_pred)\n",
    "print(\"Lasso - Mean Squared Error:\", lasso_mse)\n",
    "print(\"Lasso - R^2 Score:\", lasso_r2)\n"
   ]
  },
  {
   "cell_type": "markdown",
   "metadata": {
    "id": "5EslGMSEYQ-2"
   },
   "source": [
    "**Visualizations**"
   ]
  },
  {
   "cell_type": "code",
   "execution_count": null,
   "metadata": {
    "id": "FjCMjWioYVtV"
   },
   "outputs": [],
   "source": [
    "# Scatter plot of actual vs predicted values\n",
    "plt.scatter(y_test, y_pred)\n",
    "plt.title('Actual vs Predicted')\n",
    "plt.xlabel('Actual Values')\n",
    "plt.ylabel('Predicted Values')\n",
    "plt.show()\n",
    "\n",
    "# Residual plot\n",
    "residuals = y_test - y_pred\n",
    "plt.scatter(y_pred, residuals)\n",
    "plt.title('Residuals vs Predicted')\n",
    "plt.xlabel('Predicted Values')\n",
    "plt.ylabel('Residuals')\n",
    "plt.axhline(y=0, color='r', linestyle='--')\n",
    "plt.show()\n"
   ]
  }
 ],
 "metadata": {
  "colab": {
   "provenance": []
  },
  "kernelspec": {
   "display_name": "Python 3",
   "name": "python3"
  },
  "language_info": {
   "name": "python"
  }
 },
 "nbformat": 4,
 "nbformat_minor": 0
}
