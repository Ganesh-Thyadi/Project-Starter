{
 "cells": [
  {
   "cell_type": "markdown",
   "metadata": {
    "id": "qOvUfOyWUhpG"
   },
   "source": [
    "## **Thompson Sampling Exploration Algorithm**\n",
    "\n",
    "Thompson Sampling is a probabilistic approach to exploration. It maintains a posterior distribution of the expected reward for each action (typically using a Beta distribution in binary reward settings). For each action, the algorithm samples from the distribution and selects the action with the highest sampled reward.\n"
   ]
  },
  {
   "cell_type": "markdown",
   "metadata": {
    "id": "P1TWE0LxU_-E"
   },
   "source": [
    "**Imports**"
   ]
  },
  {
   "cell_type": "code",
   "execution_count": 3,
   "metadata": {
    "id": "Z7qDmaLvVEUv"
   },
   "outputs": [],
   "source": [
    "import numpy as np\n",
    "import gym"
   ]
  },
  {
   "cell_type": "markdown",
   "metadata": {
    "id": "C3qgM8luVJcx"
   },
   "source": [
    "**Data Loading**"
   ]
  },
  {
   "cell_type": "code",
   "execution_count": null,
   "metadata": {
    "id": "2N80pFaOVKtQ"
   },
   "outputs": [],
   "source": [
    "# Environment setup\n",
    "env = gym.make('CartPole-v1')\n",
    "\n",
    "# Hyperparameters\n",
    "alpha = 1  # Prior success (Beta distribution)\n",
    "beta = 1  # Prior failure (Beta distribution)\n",
    "gamma = 0.99  # Discount factor"
   ]
  },
  {
   "cell_type": "markdown",
   "metadata": {
    "id": "h0a24kpEVfIZ"
   },
   "source": [
    "**Model Building**"
   ]
  },
  {
   "cell_type": "code",
   "execution_count": null,
   "metadata": {
    "id": "YGdDRzYRViZE"
   },
   "outputs": [],
   "source": [
    "# Q-table initialization and posterior distributions\n",
    "successes = np.ones((env.observation_space.shape[0], env.action_space.n)) * alpha\n",
    "failures = np.ones((env.observation_space.shape[0], env.action_space.n)) * beta\n",
    "\n",
    "def thompson_sampling_policy(state):\n",
    "    samples = np.random.beta(successes[state], failures[state])\n",
    "    return np.argmax(samples)  # Select action with highest sample from the Beta distribution\n",
    "\n",
    "def thompson_sampling_q_learning(env, n_episodes=1000):\n",
    "    for episode in range(n_episodes):\n",
    "        state = env.reset()\n",
    "        done = False\n",
    "        while not done:\n",
    "            action = thompson_sampling_policy(state)  # Select action based on Thompson Sampling\n",
    "            next_state, reward, done, _ = env.step(action)\n",
    "\n",
    "            # Update Beta distributions based on success/failure\n",
    "            if reward > 0:  # Assuming positive reward means success\n",
    "                successes[state, action] += 1\n",
    "            else:\n",
    "                failures[state, action] += 1\n",
    "\n",
    "            state = next_state\n",
    "\n",
    "thompson_sampling_q_learning(env)"
   ]
  }
 ],
 "metadata": {
  "colab": {
   "provenance": []
  },
  "kernelspec": {
   "display_name": "Python 3",
   "name": "python3"
  },
  "language_info": {
   "name": "python"
  }
 },
 "nbformat": 4,
 "nbformat_minor": 0
}
