{
 "cells": [
  {
   "cell_type": "markdown",
   "metadata": {
    "id": "qOvUfOyWUhpG"
   },
   "source": [
    "## **ε-Greedy Exploration Algorithm**\n",
    "\n",
    "The ε-greedy algorithm is a simple and widely used strategy for balancing exploration and exploitation. In this approach, with probability ε, the agent chooses a random action (exploration), and with probability 1 - ε, the agent selects the action that maximizes the current value estimate.\n"
   ]
  },
  {
   "cell_type": "markdown",
   "metadata": {
    "id": "P1TWE0LxU_-E"
   },
   "source": [
    "**Imports**"
   ]
  },
  {
   "cell_type": "code",
   "execution_count": 3,
   "metadata": {
    "id": "Z7qDmaLvVEUv"
   },
   "outputs": [],
   "source": [
    "import numpy as np\n",
    "import gym"
   ]
  },
  {
   "cell_type": "markdown",
   "metadata": {
    "id": "C3qgM8luVJcx"
   },
   "source": [
    "**Data Loading**"
   ]
  },
  {
   "cell_type": "code",
   "execution_count": null,
   "metadata": {
    "id": "2N80pFaOVKtQ"
   },
   "outputs": [],
   "source": [
    "env = gym.make('CartPole-v1')\n",
    "# Hyperparameters\n",
    "epsilon = 0.1  # Exploration rate\n",
    "alpha = 0.1  # Learning rate\n",
    "gamma = 0.99  # Discount factor\n",
    "\n",
    "# Q-table initialization\n",
    "Q = np.zeros((env.observation_space.shape[0], env.action_space.n))"
   ]
  },
  {
   "cell_type": "markdown",
   "metadata": {
    "id": "h0a24kpEVfIZ"
   },
   "source": [
    "**Model Building**"
   ]
  },
  {
   "cell_type": "code",
   "execution_count": null,
   "metadata": {
    "id": "YGdDRzYRViZE"
   },
   "outputs": [],
   "source": [
    "def epsilon_greedy_policy(state):\n",
    "    if np.random.rand() < epsilon:\n",
    "        return np.random.choice(env.action_space.n)  # Explore\n",
    "    else:\n",
    "        return np.argmax(Q[state])  # Exploit\n",
    "\n",
    "def q_learning(env, n_episodes=1000):\n",
    "    for episode in range(n_episodes):\n",
    "        state = env.reset()\n",
    "        done = False\n",
    "        while not done:\n",
    "            action = epsilon_greedy_policy(state)  # Select action based on epsilon-greedy policy\n",
    "            next_state, reward, done, _ = env.step(action)\n",
    "\n",
    "            # Q-value update\n",
    "            Q[state, action] += alpha * (reward + gamma * np.max(Q[next_state]) - Q[state, action])\n",
    "\n",
    "            state = next_state\n",
    "\n",
    "q_learning(env)"
   ]
  }
 ],
 "metadata": {
  "colab": {
   "provenance": []
  },
  "kernelspec": {
   "display_name": "Python 3",
   "name": "python3"
  },
  "language_info": {
   "name": "python"
  }
 },
 "nbformat": 4,
 "nbformat_minor": 0
}
