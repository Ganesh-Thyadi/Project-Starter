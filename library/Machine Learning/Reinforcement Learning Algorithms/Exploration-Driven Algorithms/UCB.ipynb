{
 "cells": [
  {
   "cell_type": "markdown",
   "metadata": {
    "id": "qOvUfOyWUhpG"
   },
   "source": [
    "## **Upper Confidence Bound (UCB) Exploration Algorithm**\n",
    "\n",
    "Upper Confidence Bound (UCB) is an algorithm that balances exploration and exploitation by considering both the estimated reward of an action and the uncertainty or variance of the estimate. "
   ]
  },
  {
   "cell_type": "markdown",
   "metadata": {
    "id": "P1TWE0LxU_-E"
   },
   "source": [
    "**Imports**"
   ]
  },
  {
   "cell_type": "code",
   "execution_count": 3,
   "metadata": {
    "id": "Z7qDmaLvVEUv"
   },
   "outputs": [],
   "source": [
    "import numpy as np\n",
    "import gym"
   ]
  },
  {
   "cell_type": "markdown",
   "metadata": {
    "id": "C3qgM8luVJcx"
   },
   "source": [
    "**Data Loading**"
   ]
  },
  {
   "cell_type": "code",
   "execution_count": null,
   "metadata": {
    "id": "2N80pFaOVKtQ"
   },
   "outputs": [],
   "source": [
    "# Environment setup\n",
    "env = gym.make('CartPole-v1')\n",
    "\n",
    "# Hyperparameters\n",
    "alpha = 0.1  # Learning rate\n",
    "gamma = 0.99  # Discount factor\n",
    "c = 2  # Exploration factor in UCB"
   ]
  },
  {
   "cell_type": "markdown",
   "metadata": {
    "id": "h0a24kpEVfIZ"
   },
   "source": [
    "**Model Building**"
   ]
  },
  {
   "cell_type": "code",
   "execution_count": null,
   "metadata": {
    "id": "YGdDRzYRViZE"
   },
   "outputs": [],
   "source": [
    "# Q-table initialization and counters\n",
    "Q = np.zeros((env.observation_space.shape[0], env.action_space.n))\n",
    "N = np.zeros((env.observation_space.shape[0], env.action_space.n))  # Action count\n",
    "\n",
    "def ucb_policy(state):\n",
    "    total_actions = np.sum(N[state])\n",
    "    if total_actions == 0:  # No actions taken yet, explore\n",
    "        return np.random.choice(env.action_space.n)\n",
    "    else:\n",
    "        ucb_values = Q[state] + c * np.sqrt(np.log(total_actions + 1) / (N[state] + 1))\n",
    "        return np.argmax(ucb_values)\n",
    "\n",
    "def ucb_q_learning(env, n_episodes=1000):\n",
    "    for episode in range(n_episodes):\n",
    "        state = env.reset()\n",
    "        done = False\n",
    "        while not done:\n",
    "            action = ucb_policy(state)  # Select action based on UCB policy\n",
    "            next_state, reward, done, _ = env.step(action)\n",
    "\n",
    "            # Update Q-value and action count\n",
    "            N[state, action] += 1\n",
    "            Q[state, action] += alpha * (reward + gamma * np.max(Q[next_state]) - Q[state, action])"
   ]
  }
 ],
 "metadata": {
  "colab": {
   "provenance": []
  },
  "kernelspec": {
   "display_name": "Python 3",
   "name": "python3"
  },
  "language_info": {
   "name": "python"
  }
 },
 "nbformat": 4,
 "nbformat_minor": 0
}
