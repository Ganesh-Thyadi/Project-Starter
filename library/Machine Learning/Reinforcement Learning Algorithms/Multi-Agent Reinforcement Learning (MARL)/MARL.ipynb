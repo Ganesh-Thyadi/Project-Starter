{
 "cells": [
  {
   "cell_type": "markdown",
   "metadata": {
    "id": "qOvUfOyWUhpG"
   },
   "source": [
    "## **Multi-Agent Reinforcement Learning (MARL)**\n",
    "\n",
    "Multi-Agent Reinforcement Learning (MARL) involves multiple agents interacting in a shared environment, each trying to optimize its own reward, often while considering the actions of other agents.\n"
   ]
  },
  {
   "cell_type": "markdown",
   "metadata": {
    "id": "P1TWE0LxU_-E"
   },
   "source": [
    "**Imports**"
   ]
  },
  {
   "cell_type": "code",
   "execution_count": 3,
   "metadata": {
    "id": "Z7qDmaLvVEUv"
   },
   "outputs": [],
   "source": [
    "import numpy as np\n",
    "import gym\n",
    "from collections import deque\n"
   ]
  },
  {
   "cell_type": "markdown",
   "metadata": {
    "id": "C3qgM8luVJcx"
   },
   "source": [
    "**Data Loading**"
   ]
  },
  {
   "cell_type": "code",
   "execution_count": null,
   "metadata": {
    "id": "2N80pFaOVKtQ"
   },
   "outputs": [],
   "source": [
    "# Create an environment (e.g., multi-agent version of CartPole)\n",
    "env = gym.make('CartPole-v1')  # Replace with multi-agent environment\n",
    "n_agents = 2  # Example: 2 agents interacting in the environment\n",
    "\n",
    "# Initialize Q-table for each agent\n",
    "Q = [np.zeros((env.observation_space.shape[0], env.action_space.n)) for _ in range(n_agents)]\n"
   ]
  },
  {
   "cell_type": "markdown",
   "metadata": {
    "id": "h0a24kpEVfIZ"
   },
   "source": [
    "**Model Building**"
   ]
  },
  {
   "cell_type": "code",
   "execution_count": null,
   "metadata": {
    "id": "YGdDRzYRViZE"
   },
   "outputs": [],
   "source": [
    "# Hyperparameters\n",
    "alpha = 0.1  # Learning rate\n",
    "gamma = 0.99  # Discount factor\n",
    "epsilon = 0.1  # Exploration rate\n",
    "\n",
    "def q_learning(env, n_agents, n_episodes=1000):\n",
    "    for episode in range(n_episodes):\n",
    "        states = [env.reset() for _ in range(n_agents)]  # Initial state for each agent\n",
    "        done = False\n",
    "        \n",
    "        while not done:\n",
    "            actions = []\n",
    "            for i in range(n_agents):\n",
    "                if np.random.rand() < epsilon:\n",
    "                    actions.append(env.action_space.sample())  # Exploration\n",
    "                else:\n",
    "                    actions.append(np.argmax(Q[i][states[i]]))  # Exploitation\n",
    "\n",
    "            next_states, rewards, dones, _ = env.step(actions)\n",
    "            \n",
    "            # Update Q-table for each agent independently\n",
    "            for i in range(n_agents):\n",
    "                Q[i][states[i], actions[i]] += alpha * (rewards[i] + gamma * np.max(Q[i][next_states[i]]) - Q[i][states[i], actions[i]])\n",
    "\n",
    "            states = next_states\n",
    "            done = all(dones)\n",
    "\n",
    "q_learning(env, n_agents)\n"
   ]
  },
  {
   "cell_type": "markdown",
   "metadata": {
    "id": "gS5BfgpGVln2"
   },
   "source": [
    "**Predictions**"
   ]
  },
  {
   "cell_type": "code",
   "execution_count": null,
   "metadata": {
    "id": "rcjFFa-bVpkk"
   },
   "outputs": [],
   "source": [
    "# After training, each agent selects the action with the highest Q-value\n",
    "states = [env.reset() for _ in range(n_agents)]\n",
    "actions = []\n",
    "for i in range(n_agents):\n",
    "    action = np.argmax(Q[i][states[i]])\n",
    "    actions.append(action)\n"
   ]
  },
  {
   "cell_type": "markdown",
   "metadata": {
    "id": "5lJ3LJNlVuHt"
   },
   "source": [
    "**Performance Metrics**"
   ]
  },
  {
   "cell_type": "code",
   "execution_count": null,
   "metadata": {
    "id": "ARqNM8R3Vynf"
   },
   "outputs": [],
   "source": [
    "# Evaluate the performance by running the trained agents in the environment\n",
    "total_rewards = [0 for _ in range(n_agents)]\n",
    "for _ in range(10):  # Run 10 test episodes\n",
    "    states = [env.reset() for _ in range(n_agents)]\n",
    "    done = False\n",
    "    while not done:\n",
    "        actions = [np.argmax(Q[i][states[i]]) for i in range(n_agents)]  # Select best actions\n",
    "        next_states, rewards, dones, _ = env.step(actions)\n",
    "        for i in range(n_agents):\n",
    "            total_rewards[i] += rewards[i]\n",
    "        states = next_states\n",
    "        done = all(dones)\n",
    "\n",
    "print(f\"Average rewards: {np.mean(total_rewards)}\")\n"
   ]
  }
 ],
 "metadata": {
  "colab": {
   "provenance": []
  },
  "kernelspec": {
   "display_name": "Python 3",
   "name": "python3"
  },
  "language_info": {
   "name": "python"
  }
 },
 "nbformat": 4,
 "nbformat_minor": 0
}
