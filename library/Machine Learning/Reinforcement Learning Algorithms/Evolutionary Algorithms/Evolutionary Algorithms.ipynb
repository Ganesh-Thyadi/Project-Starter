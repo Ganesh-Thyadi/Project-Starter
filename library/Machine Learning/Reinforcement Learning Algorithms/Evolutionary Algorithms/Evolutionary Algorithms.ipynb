{
 "cells": [
  {
   "cell_type": "markdown",
   "metadata": {
    "id": "qOvUfOyWUhpG"
   },
   "source": [
    "## **Evolutionary Algorithms**\n",
    "\n",
    "Evolutionary Algorithms (EAs) are optimization techniques inspired by natural selection. They involve generating populations, selecting the best candidates, and evolving them through genetic operators like crossover and mutation. EAs are widely used for solving complex optimization problems.\n"
   ]
  },
  {
   "cell_type": "markdown",
   "metadata": {
    "id": "P1TWE0LxU_-E"
   },
   "source": [
    "**Imports**"
   ]
  },
  {
   "cell_type": "code",
   "execution_count": 3,
   "metadata": {
    "id": "Z7qDmaLvVEUv"
   },
   "outputs": [],
   "source": [
    "import numpy as np\n",
    "import random\n",
    "import matplotlib.pyplot as plt\n"
   ]
  },
  {
   "cell_type": "markdown",
   "metadata": {
    "id": "C3qgM8luVJcx"
   },
   "source": [
    "**Data Loading**"
   ]
  },
  {
   "cell_type": "code",
   "execution_count": null,
   "metadata": {
    "id": "2N80pFaOVKtQ"
   },
   "outputs": [],
   "source": [
    "def fitness_function(individual):\n",
    "    return -sum((individual - 5) ** 2)  # Example: minimize the distance from 5\n"
   ]
  },
  {
   "cell_type": "markdown",
   "metadata": {
    "id": "h0a24kpEVfIZ"
   },
   "source": [
    "**Model Building**"
   ]
  },
  {
   "cell_type": "code",
   "execution_count": null,
   "metadata": {
    "id": "YGdDRzYRViZE"
   },
   "outputs": [],
   "source": [
    "#Initialize Population\n",
    "def fitness_function(individual):\n",
    "    return -sum((individual - 5) ** 2)  # Example: minimize the distance from 5\n",
    "#Selection\n",
    "def select_parents(population, fitnesses):\n",
    "    indices = np.argsort(fitnesses)[-2:]  # Select two fittest individuals\n",
    "    return [population[indices[0]], population[indices[1]]]\n",
    "#Crossover\n",
    "def crossover(parent1, parent2):\n",
    "    point = random.randint(1, len(parent1) - 1)\n",
    "    child1 = np.concatenate((parent1[:point], parent2[point:]))\n",
    "    child2 = np.concatenate((parent2[:point], parent1[point:]))\n",
    "    return child1, child2\n",
    "#Mutation\n",
    "def mutate(individual, mutation_rate=0.1):\n",
    "    for i in range(len(individual)):\n",
    "        if random.random() < mutation_rate:\n",
    "            individual[i] += np.random.normal(0, 1)  # Add Gaussian noise\n",
    "    return individual\n"
   ]
  },
  {
   "cell_type": "markdown",
   "metadata": {
    "id": "gS5BfgpGVln2"
   },
   "source": [
    "**Evolutionary Algorithm Logic**"
   ]
  },
  {
   "cell_type": "code",
   "execution_count": null,
   "metadata": {
    "id": "rcjFFa-bVpkk"
   },
   "outputs": [],
   "source": [
    "def evolutionary_algorithm(pop_size, gene_length, generations, mutation_rate):\n",
    "    population = initialize_population(pop_size, gene_length)\n",
    "    best_fitnesses = []\n",
    "    \n",
    "    for gen in range(generations):\n",
    "        fitnesses = [fitness_function(ind) for ind in population]\n",
    "        parents = select_parents(population, fitnesses)\n",
    "        new_population = []\n",
    "        \n",
    "        for _ in range(pop_size // 2):\n",
    "            child1, child2 = crossover(parents[0], parents[1])\n",
    "            new_population.append(mutate(child1, mutation_rate))\n",
    "            new_population.append(mutate(child2, mutation_rate))\n",
    "        \n",
    "        population = new_population\n",
    "        best_fitness = max(fitnesses)\n",
    "        best_fitnesses.append(best_fitness)\n",
    "        print(f\"Generation {gen + 1}: Best Fitness = {best_fitness}\")\n",
    "    \n",
    "    # Visualization\n",
    "    plt.plot(range(1, generations + 1), best_fitnesses)\n",
    "    plt.xlabel(\"Generation\")\n",
    "    plt.ylabel(\"Best Fitness\")\n",
    "    plt.title(\"Fitness Evolution Over Generations\")\n",
    "    plt.show()\n",
    "    \n",
    "    return population[np.argmax(fitnesses)]\n"
   ]
  },
  {
   "cell_type": "markdown",
   "metadata": {
    "id": "5lJ3LJNlVuHt"
   },
   "source": [
    "**Run Evolutionary Algorithm**"
   ]
  },
  {
   "cell_type": "code",
   "execution_count": null,
   "metadata": {
    "id": "ARqNM8R3Vynf"
   },
   "outputs": [],
   "source": [
    "best_solution = evolutionary_algorithm(\n",
    "    pop_size=20, gene_length=5, generations=50, mutation_rate=0.1\n",
    ")\n",
    "print(\"Best Solution Found:\", best_solution)\n"
   ]
  }
 ],
 "metadata": {
  "colab": {
   "provenance": []
  },
  "kernelspec": {
   "display_name": "Python 3",
   "name": "python3"
  },
  "language_info": {
   "name": "python"
  }
 },
 "nbformat": 4,
 "nbformat_minor": 0
}
