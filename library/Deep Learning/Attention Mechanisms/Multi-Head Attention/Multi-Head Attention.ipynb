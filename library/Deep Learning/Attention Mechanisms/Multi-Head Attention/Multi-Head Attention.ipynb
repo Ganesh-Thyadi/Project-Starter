{
 "cells": [
  {
   "cell_type": "markdown",
   "metadata": {
    "id": "qOvUfOyWUhpG"
   },
   "source": [
    "## **Multi-Head Attention**\n",
    "\n",
    "Multi-Head Attention is a variant of the attention mechanism that improves performance by using multiple attention heads in parallel. Each head operates on a different linear projection of the input, allowing the model to attend to different parts of the input in different ways. The outputs of all heads are concatenated and linearly transformed."
   ]
  },
  {
   "cell_type": "markdown",
   "metadata": {
    "id": "P1TWE0LxU_-E"
   },
   "source": [
    "**Imports**"
   ]
  },
  {
   "cell_type": "code",
   "execution_count": 3,
   "metadata": {
    "id": "Z7qDmaLvVEUv"
   },
   "outputs": [],
   "source": [
    "import torch\n",
    "import torch.nn as nn\n",
    "import torch.optim as optim\n",
    "import numpy as np"
   ]
  },
  {
   "cell_type": "markdown",
   "metadata": {
    "id": "C3qgM8luVJcx"
   },
   "source": [
    "**Data Loading**"
   ]
  },
  {
   "cell_type": "code",
   "execution_count": null,
   "metadata": {
    "id": "2N80pFaOVKtQ"
   },
   "outputs": [],
   "source": [
    "query = torch.randn(1, 20)\n",
    "key = torch.randn(10, 20)\n",
    "value = torch.randn(10, 20)"
   ]
  },
  {
   "cell_type": "markdown",
   "metadata": {
    "id": "h0a24kpEVfIZ"
   },
   "source": [
    "**Multi-Head Attention Model**"
   ]
  },
  {
   "cell_type": "code",
   "execution_count": null,
   "metadata": {
    "id": "YGdDRzYRViZE"
   },
   "outputs": [],
   "source": [
    "class MultiHeadAttention(nn.Module):\n",
    "    def __init__(self, input_dim, num_heads):\n",
    "        super(MultiHeadAttention, self).__init__()\n",
    "        self.num_heads = num_heads\n",
    "        self.head_dim = input_dim // num_heads\n",
    "        self.query_layer = nn.Linear(input_dim, input_dim)\n",
    "        self.key_layer = nn.Linear(input_dim, input_dim)\n",
    "        self.value_layer = nn.Linear(input_dim, input_dim)\n",
    "        self.output_layer = nn.Linear(input_dim, input_dim)\n",
    "    \n",
    "    def forward(self, query, key, value):\n",
    "        batch_size = query.size(0)\n",
    "\n",
    "        # Apply linear projections to query, key, value\n",
    "        query = self.query_layer(query).view(batch_size, -1, self.num_heads, self.head_dim)\n",
    "        key = self.key_layer(key).view(batch_size, -1, self.num_heads, self.head_dim)\n",
    "        value = self.value_layer(value).view(batch_size, -1, self.num_heads, self.head_dim)\n",
    "\n",
    "        # Compute Scaled Dot-Product Attention for each head\n",
    "        attention_output, attention_weights = self.scaled_dot_product_attention(query, key, value)\n",
    "\n",
    "        # Concatenate heads and apply final output linear layer\n",
    "        attention_output = attention_output.view(batch_size, -1, self.num_heads * self.head_dim)\n",
    "        output = self.output_layer(attention_output)\n",
    "        return output, attention_weights\n",
    "\n",
    "    def scaled_dot_product_attention(self, query, key, value):\n",
    "        # Compute Scaled Dot-Product Attention\n",
    "        scores = torch.matmul(query, key.transpose(-2, -1)) / np.sqrt(self.head_dim)\n",
    "        attention_weights = torch.softmax(scores, dim=-1)\n",
    "        attention_output = torch.matmul(attention_weights, value)\n",
    "        return attention_output, attention_weights"
   ]
  },
  {
   "cell_type": "markdown",
   "metadata": {
    "id": "gS5BfgpGVln2"
   },
   "source": [
    "**Instantiate and Apply Attention**"
   ]
  },
  {
   "cell_type": "code",
   "execution_count": null,
   "metadata": {
    "id": "rcjFFa-bVpkk"
   },
   "outputs": [],
   "source": [
    "multi_head_attention = MultiHeadAttention(input_dim=20, num_heads=4)\n",
    "output, attention_weights = multi_head_attention(query, key, value)"
   ]
  },
  {
   "cell_type": "markdown",
   "metadata": {
    "id": "5lJ3LJNlVuHt"
   },
   "source": [
    "**Display Results**"
   ]
  },
  {
   "cell_type": "code",
   "execution_count": null,
   "metadata": {
    "id": "ARqNM8R3Vynf"
   },
   "outputs": [],
   "source": [
    "print(\"Multi-Head Attention Output:\", output)\n",
    "print(\"Attention Weights:\", attention_weights)"
   ]
  }
 ],
 "metadata": {
  "colab": {
   "provenance": []
  },
  "kernelspec": {
   "display_name": "Python 3",
   "name": "python3"
  },
  "language_info": {
   "name": "python"
  }
 },
 "nbformat": 4,
 "nbformat_minor": 0
}
