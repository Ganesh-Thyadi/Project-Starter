{
 "cells": [
  {
   "cell_type": "markdown",
   "metadata": {
    "id": "qOvUfOyWUhpG"
   },
   "source": [
    "## **Spatial-Temporal Graph Neural Networks (ST-GNNs)**\n",
    "\n",
    "\n",
    "ST-GNNs integrate both spatial and temporal dependencies in graph data, making them suitable for time-series data such as traffic prediction, human motion modeling, etc."
   ]
  },
  {
   "cell_type": "markdown",
   "metadata": {
    "id": "P1TWE0LxU_-E"
   },
   "source": [
    "**Imports**"
   ]
  },
  {
   "cell_type": "code",
   "execution_count": 3,
   "metadata": {
    "id": "Z7qDmaLvVEUv"
   },
   "outputs": [],
   "source": [
    "import torch\n",
    "import torch.nn as nn\n",
    "import torch.nn.functional as F\n",
    "from torch_geometric.nn import MessagePassing"
   ]
  },
  {
   "cell_type": "markdown",
   "metadata": {
    "id": "C3qgM8luVJcx"
   },
   "source": [
    "**Temporal Aggregation Module**"
   ]
  },
  {
   "cell_type": "code",
   "execution_count": null,
   "metadata": {
    "id": "2N80pFaOVKtQ"
   },
   "outputs": [],
   "source": [
    "class TemporalAggregator(nn.Module):\n",
    "    def __init__(self, input_dim, hidden_dim):\n",
    "        super(TemporalAggregator, self).__init__()\n",
    "        self.lstm = nn.LSTM(input_dim, hidden_dim, batch_first=True)\n",
    "    \n",
    "    def forward(self, x):\n",
    "        _, (h_n, _) = self.lstm(x)\n",
    "        return h_n.squeeze(0)"
   ]
  },
  {
   "cell_type": "markdown",
   "metadata": {
    "id": "h0a24kpEVfIZ"
   },
   "source": [
    "**Spatial-Temporal GNN Model Definition**"
   ]
  },
  {
   "cell_type": "code",
   "execution_count": null,
   "metadata": {
    "id": "YGdDRzYRViZE"
   },
   "outputs": [],
   "source": [
    "class STGNN(MessagePassing):\n",
    "    def __init__(self, node_feat_dim, hidden_dim, time_steps):\n",
    "        super(STGNN, self).__init__(aggr='add')\n",
    "        self.temporal_agg = TemporalAggregator(node_feat_dim, hidden_dim)\n",
    "        self.fc = nn.Linear(hidden_dim, time_steps)\n",
    "    \n",
    "    def forward(self, x, edge_index):\n",
    "        x = self.temporal_agg(x)\n",
    "        x = self.propagate(edge_index, x=x)\n",
    "        return F.log_softmax(self.fc(x), dim=1)\n",
    "\n",
    "    def message(self, x_j):\n",
    "        return x_j"
   ]
  },
  {
   "cell_type": "markdown",
   "metadata": {},
   "source": [
    "**Instantiate Model**"
   ]
  },
  {
   "cell_type": "code",
   "execution_count": null,
   "metadata": {},
   "outputs": [],
   "source": [
    "node_feat_dim = 16\n",
    "hidden_dim = 8\n",
    "time_steps = 4\n",
    "stgnn_model = STGNN(node_feat_dim, hidden_dim, time_steps)"
   ]
  }
 ],
 "metadata": {
  "colab": {
   "provenance": []
  },
  "kernelspec": {
   "display_name": "Python 3",
   "name": "python3"
  },
  "language_info": {
   "name": "python"
  }
 },
 "nbformat": 4,
 "nbformat_minor": 0
}
