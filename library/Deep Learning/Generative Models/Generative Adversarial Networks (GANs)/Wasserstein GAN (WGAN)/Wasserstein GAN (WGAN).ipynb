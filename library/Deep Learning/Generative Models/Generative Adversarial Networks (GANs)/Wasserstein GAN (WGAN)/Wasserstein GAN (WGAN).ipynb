{
 "cells": [
  {
   "cell_type": "markdown",
   "metadata": {
    "id": "qOvUfOyWUhpG"
   },
   "source": [
    "## **Wasserstein GAN (WGAN)**\n",
    "\n",
    "WGAN improves upon the standard GAN by using the Wasserstein distance (Earth Mover’s Distance) as a measure of similarity between the real and generated distributions. This helps in stabilizing training.\n"
   ]
  },
  {
   "cell_type": "markdown",
   "metadata": {
    "id": "P1TWE0LxU_-E"
   },
   "source": [
    "**Imports**"
   ]
  },
  {
   "cell_type": "code",
   "execution_count": 3,
   "metadata": {
    "id": "Z7qDmaLvVEUv"
   },
   "outputs": [],
   "source": [
    "import torch\n",
    "import torch.nn as nn\n",
    "import torch.optim as optim"
   ]
  },
  {
   "cell_type": "markdown",
   "metadata": {
    "id": "C3qgM8luVJcx"
   },
   "source": [
    "**WGAN Model Definition**"
   ]
  },
  {
   "cell_type": "code",
   "execution_count": null,
   "metadata": {
    "id": "2N80pFaOVKtQ"
   },
   "outputs": [],
   "source": [
    "class WGANGenerator(nn.Module):\n",
    "    def __init__(self, z_dim, img_dim):\n",
    "        super(WGANGenerator, self).__init__()\n",
    "        self.fc = nn.Sequential(\n",
    "            nn.Linear(z_dim, 128),\n",
    "            nn.ReLU(True),\n",
    "            nn.Linear(128, img_dim),\n",
    "            nn.Tanh()\n",
    "        )\n",
    "    \n",
    "    def forward(self, z):\n",
    "        return self.fc(z)\n",
    "\n",
    "class WGANDiscriminator(nn.Module):\n",
    "    def __init__(self, img_dim):\n",
    "        super(WGANDiscriminator, self).__init__()\n",
    "        self.fc = nn.Sequential(\n",
    "            nn.Linear(img_dim, 128),\n",
    "            nn.LeakyReLU(0.2, inplace=True),\n",
    "            nn.Linear(128, 1)\n",
    "        )\n",
    "    \n",
    "    def forward(self, img):\n",
    "        return self.fc(img)"
   ]
  },
  {
   "cell_type": "markdown",
   "metadata": {
    "id": "h0a24kpEVfIZ"
   },
   "source": [
    "**Instantiate Model**"
   ]
  },
  {
   "cell_type": "code",
   "execution_count": null,
   "metadata": {
    "id": "YGdDRzYRViZE"
   },
   "outputs": [],
   "source": [
    "z_dim = 100\n",
    "img_dim = 784  # Example: flattened image size\n",
    "generator = WGANGenerator(z_dim, img_dim)\n",
    "discriminator = WGANDiscriminator(img_dim)"
   ]
  }
 ],
 "metadata": {
  "colab": {
   "provenance": []
  },
  "kernelspec": {
   "display_name": "Python 3",
   "name": "python3"
  },
  "language_info": {
   "name": "python"
  }
 },
 "nbformat": 4,
 "nbformat_minor": 0
}
