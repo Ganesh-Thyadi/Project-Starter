{
 "cells": [
  {
   "cell_type": "markdown",
   "metadata": {},
   "source": [
    "## **Double DQN**\n",
    "\n",
    "A variant of DQN that reduces overestimation bias by separately selecting and evaluating actions."
   ]
  },
  {
   "cell_type": "markdown",
   "metadata": {},
   "source": [
    "**Import**"
   ]
  },
  {
   "cell_type": "code",
   "execution_count": null,
   "metadata": {
    "vscode": {
     "languageId": "plaintext"
    }
   },
   "outputs": [],
   "source": [
    "import torch\n",
    "import torch.nn as nn\n",
    "import torch.optim as optim\n",
    "import gym\n",
    "import numpy as np\n",
    "from collections import deque\n"
   ]
  },
  {
   "cell_type": "markdown",
   "metadata": {},
   "source": [
    "**Define the Q-Network**"
   ]
  },
  {
   "cell_type": "code",
   "execution_count": null,
   "metadata": {
    "vscode": {
     "languageId": "plaintext"
    }
   },
   "outputs": [],
   "source": [
    "class QNetwork(nn.Module):\n",
    "    def __init__(self, input_size, output_size):\n",
    "        super(QNetwork, self).__init__()\n",
    "        self.fc1 = nn.Linear(input_size, 128)\n",
    "        self.fc2 = nn.Linear(128, 128)\n",
    "        self.fc3 = nn.Linear(128, output_size)\n",
    "\n",
    "    def forward(self, x):\n",
    "        x = torch.relu(self.fc1(x))\n",
    "        x = torch.relu(self.fc2(x))\n",
    "        return self.fc3(x)\n"
   ]
  },
  {
   "cell_type": "markdown",
   "metadata": {},
   "source": [
    "**Initialize the Environment and Agent**"
   ]
  },
  {
   "cell_type": "code",
   "execution_count": null,
   "metadata": {
    "vscode": {
     "languageId": "plaintext"
    }
   },
   "outputs": [],
   "source": [
    "env = gym.make('CartPole-v1')\n",
    "input_size = env.observation_space.shape[0]\n",
    "output_size = env.action_space.n\n",
    "\n",
    "online_net = QNetwork(input_size, output_size)\n",
    "target_net = QNetwork(input_size, output_size)\n",
    "target_net.load_state_dict(online_net.state_dict())\n",
    "target_net.eval()\n",
    "\n",
    "optimizer = optim.Adam(online_net.parameters(), lr=0.001)\n"
   ]
  },
  {
   "cell_type": "markdown",
   "metadata": {},
   "source": [
    "**Experience Replay Buffer**"
   ]
  },
  {
   "cell_type": "code",
   "execution_count": null,
   "metadata": {
    "vscode": {
     "languageId": "plaintext"
    }
   },
   "outputs": [],
   "source": [
    "replay_buffer = deque(maxlen=10000)\n",
    "batch_size = 64\n",
    "gamma = 0.99\n",
    "epsilon = 0.1\n"
   ]
  },
  {
   "cell_type": "markdown",
   "metadata": {},
   "source": [
    "**Training Loop**"
   ]
  },
  {
   "cell_type": "code",
   "execution_count": null,
   "metadata": {
    "vscode": {
     "languageId": "plaintext"
    }
   },
   "outputs": [],
   "source": [
    "for episode in range(1000):\n",
    "    state = env.reset()\n",
    "    state = torch.tensor(state, dtype=torch.float32)\n",
    "    done = False\n",
    "    total_reward = 0\n",
    "\n",
    "    while not done:\n",
    "        if np.random.rand() < epsilon:\n",
    "            action = np.random.choice(output_size)\n",
    "        else:\n",
    "            with torch.no_grad():\n",
    "                action = online_net(state).argmax().item()\n",
    "\n",
    "        next_state, reward, done, _ = env.step(action)\n",
    "        next_state = torch.tensor(next_state, dtype=torch.float32)\n",
    "        reward = torch.tensor(reward, dtype=torch.float32)\n",
    "\n",
    "        replay_buffer.append((state, action, reward, next_state, done))\n",
    "        state = next_state\n",
    "        total_reward += reward.item()\n",
    "\n",
    "        if len(replay_buffer) >= batch_size:\n",
    "            batch = np.random.choice(len(replay_buffer), batch_size, replace=False)\n",
    "            states, actions, rewards, next_states, dones = zip(*[replay_buffer[idx] for idx in batch])\n",
    "\n",
    "            states = torch.stack(states)\n",
    "            actions = torch.tensor(actions)\n",
    "            rewards = torch.tensor(rewards)\n",
    "            next_states = torch.stack(next_states)\n",
    "            dones = torch.tensor(dones)\n",
    "\n",
    "            q_values = online_net(states)\n",
    "            next_q_values = target_net(next_states)\n",
    "            next_q_value = next_q_values.max(dim=1)[0]\n",
    "            target_q_value = rewards + (1 - dones) * gamma * next_q_value\n",
    "\n",
    "            q_value = q_values.gather(1, actions.unsqueeze(1)).squeeze(1)\n",
    "            loss = nn.MSELoss()(q_value, target_q_value)\n",
    "\n",
    "            optimizer.zero_grad()\n",
    "            loss.backward()\n",
    "            optimizer.step()\n",
    "\n",
    "    if episode % 10 == 0:\n",
    "        target_net.load_state_dict(online_net.state_dict())\n",
    "        print(f'Episode {episode}, Total Reward: {total_reward}')\n"
   ]
  },
  {
   "cell_type": "markdown",
   "metadata": {},
   "source": [
    "**Expected Output**"
   ]
  },
  {
   "cell_type": "code",
   "execution_count": null,
   "metadata": {
    "vscode": {
     "languageId": "plaintext"
    }
   },
   "outputs": [],
   "source": [
    "Episode 0, Total Reward: 21.0\n",
    "Episode 10, Total Reward: 35.0\n",
    "Episode 20, Total Reward: 50.0\n",
    "...\n"
   ]
  }
 ],
 "metadata": {
  "language_info": {
   "name": "python"
  }
 },
 "nbformat": 4,
 "nbformat_minor": 2
}
