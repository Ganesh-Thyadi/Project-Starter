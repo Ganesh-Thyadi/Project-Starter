{
 "cells": [
  {
   "cell_type": "markdown",
   "metadata": {
    "id": "qOvUfOyWUhpG"
   },
   "source": [
    "## **Actor-Critic**\n",
    "\n",
    "Combines policy-based and value-based methods by having two neural networks: an actor for policy optimization and a critic for value estimation."
   ]
  },
  {
   "cell_type": "markdown",
   "metadata": {
    "id": "P1TWE0LxU_-E"
   },
   "source": [
    "**Imports**"
   ]
  },
  {
   "cell_type": "code",
   "execution_count": 3,
   "metadata": {
    "id": "Z7qDmaLvVEUv"
   },
   "outputs": [],
   "source": [
    "import gym\n",
    "import torch\n",
    "import torch.nn as nn\n",
    "import torch.optim as optim"
   ]
  },
  {
   "cell_type": "markdown",
   "metadata": {
    "id": "C3qgM8luVJcx"
   },
   "source": [
    "**Environment Setup**"
   ]
  },
  {
   "cell_type": "code",
   "execution_count": null,
   "metadata": {
    "id": "2N80pFaOVKtQ"
   },
   "outputs": [],
   "source": [
    "env = gym.make(\"CartPole-v1\")\n",
    "state_dim = env.observation_space.shape[0]\n",
    "action_dim = env.action_space.n"
   ]
  },
  {
   "cell_type": "markdown",
   "metadata": {
    "id": "h0a24kpEVfIZ"
   },
   "source": [
    "**Actor-Critic Model**"
   ]
  },
  {
   "cell_type": "code",
   "execution_count": null,
   "metadata": {
    "id": "YGdDRzYRViZE"
   },
   "outputs": [],
   "source": [
    "class ActorCritic(nn.Module):\n",
    "    def __init__(self, state_dim, action_dim):\n",
    "        super(ActorCritic, self).__init__()\n",
    "        self.actor = nn.Sequential(\n",
    "            nn.Linear(state_dim, 128),\n",
    "            nn.ReLU(),\n",
    "            nn.Linear(128, action_dim),\n",
    "            nn.Softmax(dim=-1)\n",
    "        )\n",
    "        self.critic = nn.Sequential(\n",
    "            nn.Linear(state_dim, 128),\n",
    "            nn.ReLU(),\n",
    "            nn.Linear(128, 1)\n",
    "        )\n",
    "\n",
    "    def forward(self, state):\n",
    "        action_probs = self.actor(state)\n",
    "        value = self.critic(state)\n",
    "        return action_probs, value\n",
    "\n",
    "model = ActorCritic(state_dim, action_dim)\n",
    "optimizer = optim.Adam(model.parameters(), lr=0.001)"
   ]
  },
  {
   "cell_type": "markdown",
   "metadata": {},
   "source": [
    "**Training Loop**"
   ]
  },
  {
   "cell_type": "code",
   "execution_count": null,
   "metadata": {},
   "outputs": [],
   "source": [
    "def train_actor_critic(env, model, optimizer, episodes=500):\n",
    "    gamma = 0.99\n",
    "    for episode in range(episodes):\n",
    "        state = env.reset()\n",
    "        state = torch.FloatTensor(state)\n",
    "        log_probs = []\n",
    "        values = []\n",
    "        rewards = []\n",
    "\n",
    "        # Generate an episode\n",
    "        while True:\n",
    "            action_probs, value = model(state)\n",
    "            action = torch.multinomial(action_probs, 1).item()\n",
    "            next_state, reward, done, _ = env.step(action)\n",
    "            log_probs.append(torch.log(action_probs[action]))\n",
    "            values.append(value)\n",
    "            rewards.append(reward)\n",
    "\n",
    "            state = torch.FloatTensor(next_state)\n",
    "            if done:\n",
    "                break\n",
    "\n",
    "        # Compute returns and losses\n",
    "        returns = []\n",
    "        G = 0\n",
    "        for r in reversed(rewards):\n",
    "            G = r + gamma * G\n",
    "            returns.insert(0, G)\n",
    "        returns = torch.FloatTensor(returns)\n",
    "\n",
    "        policy_loss = []\n",
    "        value_loss = []\n",
    "        for log_prob, value, G in zip(log_probs, values, returns):\n",
    "            advantage = G - value.item()\n",
    "            policy_loss.append(-log_prob * advantage)\n",
    "            value_loss.append((value - G) ** 2)\n",
    "\n",
    "        optimizer.zero_grad()\n",
    "        loss = torch.stack(policy_loss).sum() + torch.stack(value_loss).sum()\n",
    "        loss.backward()\n",
    "        optimizer.step()\n",
    "\n",
    "        if (episode + 1) % 50 == 0:\n",
    "            print(f\"Episode {episode+1}/{episodes}, Loss: {loss.item():.4f}\")\n",
    "\n",
    "train_actor_critic(env, model, optimizer)\n"
   ]
  }
 ],
 "metadata": {
  "colab": {
   "provenance": []
  },
  "kernelspec": {
   "display_name": "Python 3",
   "name": "python3"
  },
  "language_info": {
   "name": "python"
  }
 },
 "nbformat": 4,
 "nbformat_minor": 0
}
