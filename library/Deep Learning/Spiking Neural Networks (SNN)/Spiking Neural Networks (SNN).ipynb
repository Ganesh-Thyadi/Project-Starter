{
 "cells": [
  {
   "cell_type": "markdown",
   "metadata": {
    "id": "qOvUfOyWUhpG"
   },
   "source": [
    "## **Spiking Neural Networks (SNN)**\n",
    "\n",
    "Spiking Neural Networks (SNNs) are a class of biologically-inspired neural networks where neurons communicate through discrete spikes (events) rather than continuous values. SNNs incorporate the concept of time into their computations, making them suitable for applications like neuromorphic computing, robotics, and real-time processing."
   ]
  },
  {
   "cell_type": "markdown",
   "metadata": {
    "id": "P1TWE0LxU_-E"
   },
   "source": [
    "**Imports**"
   ]
  },
  {
   "cell_type": "code",
   "execution_count": 3,
   "metadata": {
    "id": "Z7qDmaLvVEUv"
   },
   "outputs": [],
   "source": [
    "from brian2 import *"
   ]
  },
  {
   "cell_type": "markdown",
   "metadata": {
    "id": "C3qgM8luVJcx"
   },
   "source": [
    "**Define Model Parameters**"
   ]
  },
  {
   "cell_type": "code",
   "execution_count": null,
   "metadata": {
    "id": "2N80pFaOVKtQ"
   },
   "outputs": [],
   "source": [
    "start_scope()\n",
    "n_neurons = 100  # Number of neurons\n",
    "duration = 1000 * ms  # Simulation time\n",
    "\n",
    "# Membrane potential equation\n",
    "tau = 10 * ms  # Time constant\n",
    "v_rest = -70 * mV  # Resting potential\n",
    "v_reset = -65 * mV  # Reset potential after spike\n",
    "v_threshold = -50 * mV  # Spiking threshold\n",
    "eqs = '''\n",
    "dv/dt = (v_rest - v) / tau : volt (unless refractory)  # Leaky Integrate-and-Fire\n",
    "'''"
   ]
  },
  {
   "cell_type": "markdown",
   "metadata": {
    "id": "h0a24kpEVfIZ"
   },
   "source": [
    "**Create Neuron Group**"
   ]
  },
  {
   "cell_type": "code",
   "execution_count": null,
   "metadata": {
    "id": "YGdDRzYRViZE"
   },
   "outputs": [],
   "source": [
    "neurons = NeuronGroup(\n",
    "    n_neurons, eqs, threshold='v > v_threshold', reset='v = v_reset',\n",
    "    refractory=5 * ms, method='exact'\n",
    ")\n",
    "neurons.v = v_rest  # Initialize membrane potential"
   ]
  },
  {
   "cell_type": "markdown",
   "metadata": {},
   "source": [
    "**Add Input Stimuli**"
   ]
  },
  {
   "cell_type": "code",
   "execution_count": null,
   "metadata": {},
   "outputs": [],
   "source": [
    "input_stimuli = PoissonGroup(n_neurons, rates=20 * Hz)  # Random spiking input\n",
    "synapses = Synapses(input_stimuli, neurons, on_pre='v += 1.5 * mV')  # Excitatory connections\n",
    "synapses.connect(j='i')  # One-to-one connections"
   ]
  },
  {
   "cell_type": "markdown",
   "metadata": {},
   "source": [
    "**Monitor Neuron Activity**"
   ]
  },
  {
   "cell_type": "code",
   "execution_count": null,
   "metadata": {},
   "outputs": [],
   "source": [
    "spike_monitor = SpikeMonitor(neurons)\n",
    "state_monitor = StateMonitor(neurons, 'v', record=True)"
   ]
  },
  {
   "cell_type": "markdown",
   "metadata": {},
   "source": [
    "**Run Simulation**"
   ]
  },
  {
   "cell_type": "code",
   "execution_count": null,
   "metadata": {},
   "outputs": [],
   "source": [
    "run(duration)"
   ]
  },
  {
   "cell_type": "markdown",
   "metadata": {},
   "source": [
    "**Visualization**"
   ]
  },
  {
   "cell_type": "code",
   "execution_count": null,
   "metadata": {},
   "outputs": [],
   "source": [
    "# Plot Spike Raster\n",
    "plt.figure(figsize=(12, 6))\n",
    "plt.subplot(2, 1, 1)\n",
    "plt.plot(spike_monitor.t / ms, spike_monitor.i, '.k')\n",
    "plt.xlabel('Time (ms)')\n",
    "plt.ylabel('Neuron Index')\n",
    "plt.title('Spike Raster Plot')\n",
    "\n",
    "# Plot Membrane Potentials\n",
    "plt.subplot(2, 1, 2)\n",
    "for i in range(10):  # Plot for the first 10 neurons\n",
    "    plt.plot(state_monitor.t / ms, state_monitor.v[i] / mV, label=f'Neuron {i}')\n",
    "plt.xlabel('Time (ms)')\n",
    "plt.ylabel('Membrane Potential (mV)')\n",
    "plt.title('Membrane Potentials')\n",
    "plt.legend()\n",
    "plt.tight_layout()\n",
    "plt.show()"
   ]
  }
 ],
 "metadata": {
  "colab": {
   "provenance": []
  },
  "kernelspec": {
   "display_name": "Python 3",
   "name": "python3"
  },
  "language_info": {
   "name": "python"
  }
 },
 "nbformat": 4,
 "nbformat_minor": 0
}
