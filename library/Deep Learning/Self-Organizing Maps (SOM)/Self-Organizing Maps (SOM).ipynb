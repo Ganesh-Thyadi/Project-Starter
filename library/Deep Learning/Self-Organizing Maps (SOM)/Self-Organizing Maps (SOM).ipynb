{
 "cells": [
  {
   "cell_type": "markdown",
   "metadata": {
    "id": "qOvUfOyWUhpG"
   },
   "source": [
    "## **Self-Organizing Maps (SOM)**\n",
    "\n",
    "Self-Organizing Maps are a type of unsupervised learning algorithm used for dimensionality reduction and visualization. They project high-dimensional data into a lower-dimensional grid, maintaining topological relationships in the data. SOMs are often applied to clustering tasks and pattern recognition."
   ]
  },
  {
   "cell_type": "markdown",
   "metadata": {
    "id": "P1TWE0LxU_-E"
   },
   "source": [
    "**Imports**"
   ]
  },
  {
   "cell_type": "code",
   "execution_count": 3,
   "metadata": {
    "id": "Z7qDmaLvVEUv"
   },
   "outputs": [],
   "source": [
    "import numpy as np\n",
    "import matplotlib.pyplot as plt\n",
    "from sklearn.datasets import make_blobs"
   ]
  },
  {
   "cell_type": "markdown",
   "metadata": {
    "id": "C3qgM8luVJcx"
   },
   "source": [
    "**Generate Synthetic Data**"
   ]
  },
  {
   "cell_type": "code",
   "execution_count": null,
   "metadata": {
    "id": "2N80pFaOVKtQ"
   },
   "outputs": [],
   "source": [
    "data, labels = make_blobs(n_samples=300, centers=3, cluster_std=1.0, random_state=42)"
   ]
  },
  {
   "cell_type": "markdown",
   "metadata": {
    "id": "h0a24kpEVfIZ"
   },
   "source": [
    "**SOM Class Definition**"
   ]
  },
  {
   "cell_type": "code",
   "execution_count": null,
   "metadata": {
    "id": "YGdDRzYRViZE"
   },
   "outputs": [],
   "source": [
    "class SOM:\n",
    "    def __init__(self, grid_size, input_dim, learning_rate=0.5, radius_decay=0.99, lr_decay=0.99):\n",
    "        self.grid_size = grid_size\n",
    "        self.input_dim = input_dim\n",
    "        self.learning_rate = learning_rate\n",
    "        self.radius = grid_size / 2  # Initial neighborhood radius\n",
    "        self.radius_decay = radius_decay\n",
    "        self.lr_decay = lr_decay\n",
    "        self.weights = np.random.random((grid_size, grid_size, input_dim))  # Initialize weights randomly\n",
    "\n",
    "    def find_bmu(self, sample):\n",
    "        distances = np.linalg.norm(self.weights - sample, axis=2)\n",
    "        return np.unravel_index(np.argmin(distances), (self.grid_size, self.grid_size))\n",
    "\n",
    "    def update_weights(self, sample, bmu, iteration, total_iterations):\n",
    "        radius_decay = self.radius * np.exp(-iteration / total_iterations)\n",
    "        lr_decay = self.learning_rate * np.exp(-iteration / total_iterations)\n",
    "\n",
    "        for x in range(self.grid_size):\n",
    "            for y in range(self.grid_size):\n",
    "                dist_to_bmu = np.linalg.norm(np.array([x, y]) - np.array(bmu))\n",
    "                if dist_to_bmu <= radius_decay:\n",
    "                    influence = np.exp(-dist_to_bmu ** 2 / (2 * (radius_decay ** 2)))\n",
    "                    self.weights[x, y] += lr_decay * influence * (sample - self.weights[x, y])\n",
    "\n",
    "    def train(self, data, epochs):\n",
    "        for epoch in range(epochs):\n",
    "            for sample in data:\n",
    "                bmu = self.find_bmu(sample)\n",
    "                self.update_weights(sample, bmu, epoch, epochs)\n",
    "\n",
    "    def visualize(self):\n",
    "        plt.imshow(np.linalg.norm(self.weights, axis=2), cmap='gray')\n",
    "        plt.colorbar(label=\"Distance to Nearest Neighbor\")\n",
    "        plt.title(\"SOM Grid Visualization\")\n",
    "        plt.show()\n"
   ]
  },
  {
   "cell_type": "markdown",
   "metadata": {},
   "source": [
    "**Train the SOM**"
   ]
  },
  {
   "cell_type": "code",
   "execution_count": null,
   "metadata": {},
   "outputs": [],
   "source": [
    "som = SOM(grid_size=10, input_dim=data.shape[1], learning_rate=0.5)\n",
    "som.train(data, epochs=100)"
   ]
  },
  {
   "cell_type": "markdown",
   "metadata": {},
   "source": [
    "**Visualization**"
   ]
  },
  {
   "cell_type": "code",
   "execution_count": null,
   "metadata": {},
   "outputs": [],
   "source": [
    "som.visualize()"
   ]
  }
 ],
 "metadata": {
  "colab": {
   "provenance": []
  },
  "kernelspec": {
   "display_name": "Python 3",
   "name": "python3"
  },
  "language_info": {
   "name": "python"
  }
 },
 "nbformat": 4,
 "nbformat_minor": 0
}
