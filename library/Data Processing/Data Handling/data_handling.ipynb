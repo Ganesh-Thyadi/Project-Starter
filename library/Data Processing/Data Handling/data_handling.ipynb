{
 "cells": [
  {
   "cell_type": "markdown",
   "metadata": {},
   "source": [
    "# **Data Handling**"
   ]
  },
  {
   "cell_type": "markdown",
   "metadata": {},
   "source": [
    "## **1️⃣ Importing Necessary Libraries**\n"
   ]
  },
  {
   "cell_type": "code",
   "execution_count": 1,
   "metadata": {},
   "outputs": [],
   "source": [
    "import pandas as pd  \n",
    "import numpy as np  \n",
    "import seaborn as sns  "
   ]
  },
  {
   "cell_type": "markdown",
   "metadata": {},
   "source": [
    "## **2️⃣ Loading the Titanic Dataset**"
   ]
  },
  {
   "cell_type": "code",
   "execution_count": 2,
   "metadata": {},
   "outputs": [],
   "source": [
    "# Using seaborn's built-in Titanic dataset  \n",
    "df = sns.load_dataset('titanic')  "
   ]
  },
  {
   "cell_type": "markdown",
   "metadata": {},
   "source": [
    "## **3️⃣ Basic Data Exploration**"
   ]
  },
  {
   "cell_type": "code",
   "execution_count": 5,
   "metadata": {},
   "outputs": [
    {
     "name": "stdout",
     "output_type": "stream",
     "text": [
      "   survived  pclass     sex   age  sibsp  parch     fare embarked  class  \\\n",
      "0         0       3    male  22.0      1      0   7.2500        S  Third   \n",
      "1         1       1  female  38.0      1      0  71.2833        C  First   \n",
      "2         1       3  female  26.0      0      0   7.9250        S  Third   \n",
      "3         1       1  female  35.0      1      0  53.1000        S  First   \n",
      "4         0       3    male  35.0      0      0   8.0500        S  Third   \n",
      "\n",
      "     who  adult_male deck  embark_town alive  alone  \n",
      "0    man        True  NaN  Southampton    no  False  \n",
      "1  woman       False    C    Cherbourg   yes  False  \n",
      "2  woman       False  NaN  Southampton   yes   True  \n",
      "3  woman       False    C  Southampton   yes  False  \n",
      "4    man        True  NaN  Southampton    no   True  \n",
      "\n",
      "\n",
      "<class 'pandas.core.frame.DataFrame'>\n",
      "RangeIndex: 891 entries, 0 to 890\n",
      "Data columns (total 15 columns):\n",
      " #   Column       Non-Null Count  Dtype   \n",
      "---  ------       --------------  -----   \n",
      " 0   survived     891 non-null    int64   \n",
      " 1   pclass       891 non-null    int64   \n",
      " 2   sex          891 non-null    object  \n",
      " 3   age          714 non-null    float64 \n",
      " 4   sibsp        891 non-null    int64   \n",
      " 5   parch        891 non-null    int64   \n",
      " 6   fare         891 non-null    float64 \n",
      " 7   embarked     889 non-null    object  \n",
      " 8   class        891 non-null    category\n",
      " 9   who          891 non-null    object  \n",
      " 10  adult_male   891 non-null    bool    \n",
      " 11  deck         203 non-null    category\n",
      " 12  embark_town  889 non-null    object  \n",
      " 13  alive        891 non-null    object  \n",
      " 14  alone        891 non-null    bool    \n",
      "dtypes: bool(2), category(2), float64(2), int64(4), object(5)\n",
      "memory usage: 80.7+ KB\n",
      "None\n",
      "\n",
      "\n",
      "         survived      pclass         age       sibsp       parch        fare\n",
      "count  891.000000  891.000000  714.000000  891.000000  891.000000  891.000000\n",
      "mean     0.383838    2.308642   29.699118    0.523008    0.381594   32.204208\n",
      "std      0.486592    0.836071   14.526497    1.102743    0.806057   49.693429\n",
      "min      0.000000    1.000000    0.420000    0.000000    0.000000    0.000000\n",
      "25%      0.000000    2.000000   20.125000    0.000000    0.000000    7.910400\n",
      "50%      0.000000    3.000000   28.000000    0.000000    0.000000   14.454200\n",
      "75%      1.000000    3.000000   38.000000    1.000000    0.000000   31.000000\n",
      "max      1.000000    3.000000   80.000000    8.000000    6.000000  512.329200\n",
      "\n",
      "\n"
     ]
    }
   ],
   "source": [
    "# Display first 5 rows  \n",
    "print(df.head()) \n",
    "print(\"\\n\")\n",
    "\n",
    "# Display dataset info  \n",
    "print(df.info())  \n",
    "print(\"\\n\")\n",
    "\n",
    "# Summary statistics  \n",
    "print(df.describe())\n",
    "print(\"\\n\")"
   ]
  },
  {
   "cell_type": "markdown",
   "metadata": {},
   "source": [
    "## **4️⃣ Handling Missing Data**"
   ]
  },
  {
   "cell_type": "code",
   "execution_count": null,
   "metadata": {},
   "outputs": [],
   "source": [
    "# Checking for missing values  \n",
    "print(df.isnull().sum())  \n",
    "\n",
    "# Filling missing values with median  \n",
    "df['age'].fillna(df['age'].median(), inplace=True)  \n",
    "\n",
    "# Dropping rows with missing values  \n",
    "df.dropna(subset=['embark_town'], inplace=True)  "
   ]
  },
  {
   "cell_type": "markdown",
   "metadata": {},
   "source": [
    "## **5️⃣ Handling Duplicates**"
   ]
  },
  {
   "cell_type": "code",
   "execution_count": 7,
   "metadata": {},
   "outputs": [
    {
     "name": "stdout",
     "output_type": "stream",
     "text": [
      "110\n"
     ]
    }
   ],
   "source": [
    "# Checking for duplicates  \n",
    "print(df.duplicated().sum())  \n",
    "\n",
    "# Removing duplicate rows  \n",
    "df = df.drop_duplicates()  "
   ]
  },
  {
   "cell_type": "markdown",
   "metadata": {},
   "source": [
    "## **6️⃣ Selecting Specific Columns & Rows**"
   ]
  },
  {
   "cell_type": "code",
   "execution_count": 14,
   "metadata": {},
   "outputs": [
    {
     "name": "stdout",
     "output_type": "stream",
     "text": [
      "0    22.0\n",
      "1    38.0\n",
      "2    26.0\n",
      "3    35.0\n",
      "4    35.0\n",
      "Name: age, dtype: float64 \n",
      "\n",
      "      sex   age     fare\n",
      "0    male  22.0   7.2500\n",
      "1  female  38.0  71.2833\n",
      "2  female  26.0   7.9250\n",
      "3  female  35.0  53.1000\n",
      "4    male  35.0   8.0500 \n",
      "\n",
      "    survived  pclass     sex   age  sibsp  parch     fare embarked  class  \\\n",
      "1          1       1  female  38.0      1      0  71.2833        C  First   \n",
      "3          1       1  female  35.0      1      0  53.1000        S  First   \n",
      "4          0       3    male  35.0      0      0   8.0500        S  Third   \n",
      "6          0       1    male  54.0      0      0  51.8625        S  First   \n",
      "11         1       1  female  58.0      0      0  26.5500        S  First   \n",
      "\n",
      "      who  adult_male deck  embark_town alive  alone  \n",
      "1   woman       False    C    Cherbourg   yes  False  \n",
      "3   woman       False    C  Southampton   yes  False  \n",
      "4     man        True  NaN  Southampton    no   True  \n",
      "6     man        True    E  Southampton    no   True  \n",
      "11  woman       False    C  Southampton   yes   True  \n"
     ]
    }
   ],
   "source": [
    "# Selecting a single column  \n",
    "age_column = df['age']  \n",
    "print(age_column.head(),\"\\n\")\n",
    "\n",
    "# Selecting multiple columns  \n",
    "selected_columns = df[['sex', 'age', 'fare']]  \n",
    "print(selected_columns.head(),\"\\n\")\n",
    "\n",
    "# Filtering rows where age > 30  \n",
    "filtered_rows = df[df['age'] > 30] \n",
    "print(filtered_rows.head())"
   ]
  },
  {
   "cell_type": "markdown",
   "metadata": {},
   "source": [
    "## **7️⃣ Data Type Conversions**"
   ]
  },
  {
   "cell_type": "code",
   "execution_count": 15,
   "metadata": {},
   "outputs": [],
   "source": [
    "# Converting categorical 'sex' column to numeric  \n",
    "df['sex'] = df['sex'].map({'male': 0, 'female': 1})  "
   ]
  },
  {
   "cell_type": "markdown",
   "metadata": {},
   "source": [
    "\n",
    "## **8️⃣ Sorting & Indexing**"
   ]
  },
  {
   "cell_type": "code",
   "execution_count": null,
   "metadata": {},
   "outputs": [
    {
     "name": "stdout",
     "output_type": "stream",
     "text": [
      "          survived  pclass  sex   age  sibsp  parch     fare  class    who  \\\n",
      "embarked                                                                     \n",
      "S                0       3    0  22.0      1      0   7.2500  Third    man   \n",
      "C                1       1    1  38.0      1      0  71.2833  First  woman   \n",
      "S                1       3    1  26.0      0      0   7.9250  Third  woman   \n",
      "S                1       1    1  35.0      1      0  53.1000  First  woman   \n",
      "S                0       3    0  35.0      0      0   8.0500  Third    man   \n",
      "\n",
      "          adult_male deck  embark_town alive  alone  \n",
      "embarked                                             \n",
      "S               True  NaN  Southampton    no  False  \n",
      "C              False    C    Cherbourg   yes  False  \n",
      "S              False  NaN  Southampton   yes   True  \n",
      "S              False    C  Southampton   yes  False  \n",
      "S               True  NaN  Southampton    no   True  \n"
     ]
    }
   ],
   "source": [
    "# Sorting by age  \n",
    "df_sorted = df.sort_values(by='age', ascending=False)  \n",
    "\n",
    "# Setting 'embarked' as index  \n",
    "df.set_index('embarked', inplace=True)  \n",
    "\n",
    "print(df.head())"
   ]
  },
  {
   "cell_type": "markdown",
   "metadata": {},
   "source": [
    "## **9️⃣ Merging & Concatenation**\n"
   ]
  },
  {
   "cell_type": "code",
   "execution_count": 24,
   "metadata": {},
   "outputs": [],
   "source": [
    "# Creating a dummy dataframe \n",
    "extra_data = pd.DataFrame({'id': [1, 2, 3], 'extra_info': ['A', 'B', 'C']})  \n",
    "\n",
    "# Merging with the original dataset  \n",
    "df_merged = df.merge(extra_data, left_on='pclass', right_on='id', how='left')  \n",
    " "
   ]
  },
  {
   "cell_type": "markdown",
   "metadata": {},
   "source": [
    "## **🔚 Conclusion**"
   ]
  },
  {
   "cell_type": "code",
   "execution_count": 25,
   "metadata": {},
   "outputs": [
    {
     "name": "stdout",
     "output_type": "stream",
     "text": [
      "          survived  pclass  sex   age  sibsp  parch     fare  class    who  \\\n",
      "embarked                                                                     \n",
      "S                0       3    0  22.0      1      0   7.2500  Third    man   \n",
      "C                1       1    1  38.0      1      0  71.2833  First  woman   \n",
      "S                1       3    1  26.0      0      0   7.9250  Third  woman   \n",
      "S                1       1    1  35.0      1      0  53.1000  First  woman   \n",
      "S                0       3    0  35.0      0      0   8.0500  Third    man   \n",
      "\n",
      "          adult_male deck  embark_town alive  alone  \n",
      "embarked                                             \n",
      "S               True  NaN  Southampton    no  False  \n",
      "C              False    C    Cherbourg   yes  False  \n",
      "S              False  NaN  Southampton   yes   True  \n",
      "S              False    C  Southampton   yes  False  \n",
      "S               True  NaN  Southampton    no   True  \n"
     ]
    }
   ],
   "source": [
    "# Display final dataframe  \n",
    "print(df.head())  "
   ]
  }
 ],
 "metadata": {
  "kernelspec": {
   "display_name": "Python 3",
   "language": "python",
   "name": "python3"
  },
  "language_info": {
   "codemirror_mode": {
    "name": "ipython",
    "version": 3
   },
   "file_extension": ".py",
   "mimetype": "text/x-python",
   "name": "python",
   "nbconvert_exporter": "python",
   "pygments_lexer": "ipython3",
   "version": "3.12.5"
  }
 },
 "nbformat": 4,
 "nbformat_minor": 2
}
